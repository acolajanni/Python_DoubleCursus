{
 "cells": [
  {
   "cell_type": "markdown",
   "metadata": {},
   "source": [
    "### **Numpy: Recap + Exercises**"
   ]
  },
  {
   "cell_type": "code",
   "execution_count": null,
   "metadata": {},
   "outputs": [],
   "source": [
    "#Importing the library- Convention\n",
    "import numpy as np"
   ]
  },
  {
   "cell_type": "code",
   "execution_count": null,
   "metadata": {},
   "outputs": [],
   "source": [
    "L = range(1000)\n",
    "%timeit [i**2 for i in L]\n",
    "\n",
    "#time it takes using numpy\n",
    "a = np.arange(1000)\n",
    "%timeit a**2"
   ]
  },
  {
   "cell_type": "markdown",
   "metadata": {},
   "source": [
    "**_1D Array_**\n",
    "\n",
    "Create an 1D array from a list and find its properties: type, dimension, shape and length. "
   ]
  },
  {
   "cell_type": "code",
   "execution_count": null,
   "metadata": {},
   "outputs": [],
   "source": [
    "a = np.array([0,1,2,3,4]) #rank 1 array\n",
    "print(a)\n",
    "#write your code here"
   ]
  },
  {
   "cell_type": "markdown",
   "metadata": {},
   "source": [
    "Print the 2nd element of array a. \\\n",
    "Change the 2nd element to 10. \\\n",
    "Print the array again."
   ]
  },
  {
   "cell_type": "code",
   "execution_count": null,
   "metadata": {},
   "outputs": [],
   "source": [
    "#write your code here"
   ]
  },
  {
   "cell_type": "markdown",
   "metadata": {},
   "source": [
    "**_2D Arrays_**\n",
    "\n",
    "Now create a 2D array b and find the same properties as before."
   ]
  },
  {
   "cell_type": "code",
   "execution_count": null,
   "metadata": {},
   "outputs": [],
   "source": [
    "#write your code here"
   ]
  },
  {
   "cell_type": "markdown",
   "metadata": {},
   "source": [
    "Indexing here is slightly more complicated.\\\n",
    " Remember that the first index indicates the row and the second the column. \\\n",
    "Now print the element on the 2nd row and 3rd column.\\\n",
    "Then change it to a nan value. (np.nan)\\\n",
    "Print the 2D array."
   ]
  },
  {
   "cell_type": "code",
   "execution_count": null,
   "metadata": {},
   "outputs": [],
   "source": [
    "#write your code here"
   ]
  },
  {
   "cell_type": "markdown",
   "metadata": {},
   "source": [
    "_Some more indexing:_ \\\n",
    "Print only the second row of your 2D array.\\\n",
    "Print only the third column of your 2D array."
   ]
  },
  {
   "cell_type": "code",
   "execution_count": null,
   "metadata": {},
   "outputs": [],
   "source": [
    "#write your code here"
   ]
  },
  {
   "cell_type": "markdown",
   "metadata": {},
   "source": [
    "Make your own arrays, but not out of lists. \\\n",
    "Hint: use np.arange, np.linspace, np.zeros, np.ones, np.full, np.diag. Explain what each of these does."
   ]
  },
  {
   "cell_type": "code",
   "execution_count": null,
   "metadata": {},
   "outputs": [],
   "source": [
    "#write your code here"
   ]
  },
  {
   "cell_type": "markdown",
   "metadata": {},
   "source": [
    "**_Basic Operations_** \\\n",
    "Take one of your arrays and add, subtract, multiple and divide by a number of choice. Print the results."
   ]
  },
  {
   "cell_type": "code",
   "execution_count": null,
   "metadata": {},
   "outputs": [],
   "source": [
    "#write your code here"
   ]
  },
  {
   "cell_type": "markdown",
   "metadata": {},
   "source": [
    "**_Boolean Operations_** \\\n",
    "Create an array and check if the elements are bigger than a certain value (say 0.2). \\\n",
    "Then check where the elements are > 0.2. Hint: use np.where."
   ]
  },
  {
   "cell_type": "code",
   "execution_count": null,
   "metadata": {},
   "outputs": [],
   "source": [
    "#hint: use >\n",
    "#write your code here\n"
   ]
  },
  {
   "cell_type": "markdown",
   "metadata": {},
   "source": [
    "**_Statistics and important functions_** \\\n",
    "Try using np.mean, np.std, np. max, np.argmax,  np.min, np.percentile  and explain your results.\n"
   ]
  },
  {
   "cell_type": "code",
   "execution_count": null,
   "metadata": {},
   "outputs": [],
   "source": [
    "#write your code here"
   ]
  },
  {
   "cell_type": "markdown",
   "metadata": {},
   "source": [
    "### **Matplotlib: Plotting**\n"
   ]
  },
  {
   "cell_type": "code",
   "execution_count": null,
   "metadata": {},
   "outputs": [],
   "source": [
    "%matplotlib inline\n",
    "import matplotlib.pyplot as plt "
   ]
  },
  {
   "cell_type": "code",
   "execution_count": null,
   "metadata": {},
   "outputs": [],
   "source": [
    "fig = plt.subplot()\n",
    "ax = plt.subplot()\n",
    "plt.plot(np.linspace(0,5,15), np.random.rand(15), color = 'green', label = 'first line', lw = 2, linestyle = ':')\n",
    "#plt.grid()\n",
    "\n",
    "plt.legend()\n",
    "\n",
    "#plt.box(False)"
   ]
  },
  {
   "cell_type": "markdown",
   "metadata": {},
   "source": [
    "Consider X a list of values from -pi to pi and find the sine and cosine for these values.\n",
    " "
   ]
  },
  {
   "cell_type": "code",
   "execution_count": null,
   "metadata": {},
   "outputs": [],
   "source": [
    "X = np.linspace(-np.pi, np.pi, 7, endpoint=True)\n",
    "#find sine cosine for each value\n",
    "#C = np.\n",
    "#S = np.\n",
    "#then do the plotting\n",
    "\n",
    "plt.plot(X, C)\n",
    "plt.plot(X, S)"
   ]
  },
  {
   "cell_type": "markdown",
   "metadata": {},
   "source": [
    "Does the plot look weird? Why and what can you do to improve it?\n",
    "For the number of points to be plotted 7 was chosen. What happens if you increase or decrease this number?"
   ]
  },
  {
   "cell_type": "markdown",
   "metadata": {},
   "source": [
    "### Using style sheets\n",
    "Sometimes, we don't want fine control over our plot, but there are some plotting settings that we want to apply to all of our plots. (E.g., a new color cycle, changing the axes spines to dark grey, etc.) The easiest way to do that is to use [style sheets](https://matplotlib.org/stable/tutorials/introductory/customizing.html). Matplotlib has several built in, or you can make your own once you know which values in `plt.rcParams` you want to update (more on that later).\n",
    "\n",
    "To use a style sheet for all plots in a session:\n",
    "```python\n",
    "plt.style.use(<sheet_name>)\n",
    "```\n",
    "If you want to use a style sheet on just a single plot without changing the default plot settings you can use a context manager:\n",
    "```python\n",
    "with plt.style.context(<sheet_name>):\n",
    "    plt.plot(...)\n",
    "```\n",
    "\n",
    "**Exercise for the reader:** Use a context manager with the code below but using one of the built-in styles. You can find available built-in styles using the `plt.style.available` command. Did any style sheet resolve all the issues we discussed?\n",
    "\n",
    "**Answer:**"
   ]
  },
  {
   "cell_type": "code",
   "execution_count": null,
   "metadata": {},
   "outputs": [],
   "source": [
    "#write your code here\n",
    "#don't forget to include everything you put in the line above"
   ]
  },
  {
   "cell_type": "markdown",
   "metadata": {},
   "source": [
    "#### Figure size\n",
    "To define the figure size, we need to specify a size in inches. Let's try 10 inches wide and 6 inches tall. We'll increase the DPI (dots per inch) of the figure to get a better resolution in the notebook.\n",
    "\n",
    "#### Linestyle \n",
    "Solid line is the default line style but there exist [several other styles](https://matplotlib.org/stable/gallery/lines_bars_and_markers/linestyles.html) such as dashed lines (`linestyle=\"--\"`), dotted lines (`linestyle=\":\"`), etc. You can also combine a style with a marker. For example, we can add circular markers at regular intervals. To do that, we specify the `marker` symbol as `'o'`, the marker color and the spacing between markers (else you will have a marker at each data  point). \n",
    "\n",
    "#### Tick positions and labels\n",
    "\n",
    "Ticks on the x axis are not ideal positioned because they do not show the interesting values (+/-$\\pi$,+/-$\\pi$/2) and there are too many ticks on the y axis. Moreover, it would be more interesting to express them in multiples of pi.\n",
    "\n",
    "**Exercise for the reader:** Change the xticks so they only occur at multiples of π/2 the yticks so they only occur at -1, 0 and 1. Change the xtick labels so they are multiples of π/2, and change the ytick labels to read \"-1\", \"0\", and \"+1\". "
   ]
  },
  {
   "cell_type": "code",
   "execution_count": null,
   "metadata": {},
   "outputs": [],
   "source": [
    "#first define the size of your plot\n",
    "plt.figure(figsize=(10, 6), dpi=100) #100 dots per inch\n",
    "\n",
    "#use plt.plot(x,y) syntax to plot a line; you need to first create 2 arrays of the same size x and y and then plot it.\n",
    "#add a color to your line and change the linewidth & linestyle ; this can be done inside the plt.plot() function\n",
    "\n",
    "\n",
    "#plt.plot(x,y, color = '', lw = '', linestyle='', marker = , markerevery = markerfacecolor = )\n",
    "\n",
    "#set x and ylim \n",
    "#plt.xlim()\n",
    "#plt.ylim()\n",
    "\n",
    "#set ticks and then xticks labels, first [] is for the ticks and second [] for the labels\n",
    "#plt.xticks([,,,],[r'$-\\pi$,,,])\n",
    "#plt.ytics([,,])\n",
    "\n",
    "#add x and ylabels\n",
    "#plt.xlabel('')\n",
    "#plt.ylabel('')\n",
    "\n",
    "#add a title\n",
    "#plt.title()\n",
    "\n"
   ]
  },
  {
   "cell_type": "markdown",
   "metadata": {},
   "source": [
    "Make a similar plot like above, but with 4 different sine waves of X and a shift in the sine wave (X-1, X-2, X-3), each with a different combinations of color, linestyle and linewidth. Make a legend for each line. Set the location of the legend to upper left. Set the label of x and y axis."
   ]
  },
  {
   "cell_type": "code",
   "execution_count": null,
   "metadata": {},
   "outputs": [],
   "source": [
    "#write your code here\n"
   ]
  },
  {
   "cell_type": "markdown",
   "metadata": {},
   "source": [
    "#### Spines position\n",
    "\n",
    "Spines are the four lines around our figure and delimiting the data area. By default, there are four spines at top/bottom and left/right but we can hide some of them and move the others. Since there are four of them (top/bottom/left/right), we'll hide the top and right and we'll move the bottom and left ones to coordinate 0 (in data space coordinates).\n",
    "\n",
    "\n",
    "#### Z order\n",
    "\n",
    "Now that our spines overlap our lines, we can see that the axes are plotted on top the lines. It was already the case previosuly but it was less noticeable. Now with the markers, it is more obvious and pretty annoying. To fix the problem, we need to tell matplotlib to render our sine and cosine plots in front of the axis. To do so, we need to specify a zorder that specify the order of rendering. Elements are rendererd in increasing zorder.\n",
    "\n",
    "#### Legend\n",
    "\n",
    "Matplotlib allows adding legends with [a great degree of control](https://matplotlib.org/stable/tutorials/intermediate/legend_guide.html). For now, we will add a simple legend in the upper left-hand corner. We do this by labelling the data we plot (i.e., adding the keyword argument `label` into our `plot` function) and then calling `ax.legend`.\n"
   ]
  },
  {
   "cell_type": "code",
   "execution_count": null,
   "metadata": {},
   "outputs": [],
   "source": [
    "#write your code here\n"
   ]
  },
  {
   "cell_type": "markdown",
   "metadata": {},
   "source": [
    "Put the whole figure together.\n",
    "It must have all the components mentioned above."
   ]
  },
  {
   "cell_type": "markdown",
   "metadata": {},
   "source": [
    "### Subplots\n",
    "\n",
    "We want to split our sine and cosine plot in two different plots side by side. To do that we need to create two axes. The most straigthforward way is to use the `plt.subplots` method to create subplots with the specified rows and colums. This method returns an array of axes that you can index to access the axes of your choice. You can also use the `plt.subplot` method."
   ]
  },
  {
   "cell_type": "code",
   "execution_count": null,
   "metadata": {},
   "outputs": [],
   "source": [
    "nrows, ncols = 2,2\n",
    "fig, axs = plt.subplots(nrows, ncols, figsize=(12,7))\n",
    "for index in range(nrows*ncols):\n",
    "    ax = axs[index // ncols, index % ncols];\n",
    "    ax.set_title(\"plt.subplot(%d,%d,%d)\" % (nrows, ncols, index+1), weight=\"bold\")\n",
    "\n",
    "    \n",
    "plt.tight_layout()\n",
    "\n",
    "axs[0,0].plot(X,C)\n",
    "axs[0,1].plot(X,S)\n",
    "axs[1,0].plot(X,C,X,S)\n",
    "X_few= np.linspace(-np.pi, np.pi, 10)\n",
    "C_few = np.cos(X_few)\n",
    "S_few = np.sin(X_few)\n",
    "axs[1,1].plot(X_few,C_few,X_few,S_few)\n",
    "\n"
   ]
  },
  {
   "cell_type": "markdown",
   "metadata": {},
   "source": [
    "Back to the very first line:\n",
    "We can generate a scatter plot from a line plot."
   ]
  },
  {
   "cell_type": "code",
   "execution_count": null,
   "metadata": {},
   "outputs": [],
   "source": [
    "fig = plt.figure(figsize=(10,10))\n",
    "ax = plt.subplot()\n",
    "plt.plot(np.random.normal(0,.5,10005), np.random.normal(0,.5,10005), color = 'C1', label = 'first line', linestyle = \"\",alpha=0.1,\n",
    "              marker=\"o\", markersize=5, markeredgewidth=0)\n",
    "#plt.grid()\n",
    "ax.spines['right'].set_visible(False)\n",
    "ax.spines['top'].set_visible(False)\n",
    "plt.legend()"
   ]
  },
  {
   "cell_type": "markdown",
   "metadata": {},
   "source": [
    "### Image plot\n"
   ]
  },
  {
   "cell_type": "code",
   "execution_count": null,
   "metadata": {},
   "outputs": [],
   "source": [
    "#2D plot\n",
    "#make a 2D array X and then use plt.imshow(X)\n",
    "#define the aspect and the cmap \n",
    "X = np.random.rand(30,30)\n",
    "plt.imshow(X, cmap = 'gist_heat', aspect = 'equal', vmin = 0, vmax= 0.8, origin='lower')\n",
    "\n",
    "#also plot a colorbar; plt.colorbar()\n",
    "plt.colorbar()"
   ]
  },
  {
   "cell_type": "markdown",
   "metadata": {},
   "source": [
    "References:\n",
    "https://scipy-lectures.org\n",
    "\n",
    "**Copyright (c) 2021 Nicolas P. Rougier**  \n",
    "This work is licensed under a [Creative Commons Attribution 4.0 International License](http://creativecommons.org/licenses/by/4.0/).\n",
    "<br/>\n",
    "Code is licensed under a [2-Clauses BSD license](https://opensource.org/licenses/BSD-2-Clause)"
   ]
  }
 ],
 "metadata": {
  "kernelspec": {
   "display_name": "Python 3 (ipykernel)",
   "language": "python",
   "name": "python3"
  },
  "language_info": {
   "codemirror_mode": {
    "name": "ipython",
    "version": 3
   },
   "file_extension": ".py",
   "mimetype": "text/x-python",
   "name": "python",
   "nbconvert_exporter": "python",
   "pygments_lexer": "ipython3",
   "version": "3.8.10"
  },
  "vscode": {
   "interpreter": {
    "hash": "96adb9eb78a26c7ee4476067323d13361cbf2a88c751825a7cc6b8e456204e1c"
   }
  }
 },
 "nbformat": 4,
 "nbformat_minor": 2
}
