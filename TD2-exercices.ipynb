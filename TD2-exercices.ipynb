{
 "cells": [
  {
   "cell_type": "markdown",
   "id": "9338d70b",
   "metadata": {},
   "source": [
    "# Exercices - Analyse des données \n",
    "  \n",
    "- 189 femmes ayant accouché au Centre Médical de Baystate (MA) en 1989\n",
    "\n",
    "**Variables**:\n",
    "- **ID** : numéro d’identifiant\n",
    "- **AGE** : âge de la mère (en années)\n",
    "- **LWT** : poids de la mère au dernier cycle menstruel (en livres, 1 livre = 0,4536 kg)\n",
    "- **PTL** :  nombre d’antécédents de prématurité\n",
    "- **FVT** : nombre de visites chez le médecin pendant le 1er trimestre de la grossesse\n",
    "- **BWT** : poids de naissance de l’enfant (en grammes)\n",
    "- **SMOKE** : statut tabagique de la mère pendant la grossesse\n",
    "        0 = non fumeuse, 1 = fumeuse"
   ]
  },
  {
   "cell_type": "code",
   "execution_count": null,
   "id": "b0418b6b",
   "metadata": {},
   "outputs": [],
   "source": [
    "#load libraries\n",
    "import numpy as np         \n",
    "import pandas as pd      \n",
    "import matplotlib.pyplot as plt\n",
    "import seaborn as sns\n",
    "import scipy.stats as stats"
   ]
  },
  {
   "cell_type": "code",
   "execution_count": null,
   "id": "a4eaf6fb",
   "metadata": {},
   "outputs": [],
   "source": [
    "url = 'https://raw.githubusercontent.com/acolajanni/Python_DoubleCursus/main/data/Baby_weight.csv'\n",
    "data = pd.read_csv(url)\n",
    "\n",
    "data"
   ]
  },
  {
   "cell_type": "code",
   "execution_count": null,
   "id": "4f6a8ef2",
   "metadata": {},
   "outputs": [],
   "source": []
  },
  {
   "cell_type": "markdown",
   "id": "09e6ccb1",
   "metadata": {},
   "source": [
    "## 1. Décrivez le type de valeurs contenu dans chaque colonne, que remarquez-vous ?\n",
    "- Utiliser la methode <code>.info()</code> sur l'objet 'data'\n",
    "- Utilisez la methode <code>.astype()</code> pour changer les types de valeurs contenu dans l'objet 'data'. Attention, on ne veut changer le type d'une seule commande uniquement."
   ]
  },
  {
   "cell_type": "code",
   "execution_count": null,
   "id": "c80103db",
   "metadata": {},
   "outputs": [],
   "source": []
  },
  {
   "cell_type": "markdown",
   "id": "c7faf309",
   "metadata": {},
   "source": [
    "## 2. Le poids de la mère au dernier cycle menstruel est exprimé en livre, faites la conversion en kg."
   ]
  },
  {
   "cell_type": "markdown",
   "id": "95db56e8",
   "metadata": {},
   "source": [
    "Attention, les nombre à virgules s'écrivent avec des points \".\""
   ]
  },
  {
   "cell_type": "code",
   "execution_count": null,
   "id": "0beb8b17",
   "metadata": {},
   "outputs": [],
   "source": []
  },
  {
   "cell_type": "markdown",
   "id": "1422ea99",
   "metadata": {},
   "source": [
    "## 3. Comptez et Comparez les distributions des variables entre Fumeurs et non fumeurs"
   ]
  },
  {
   "cell_type": "markdown",
   "id": "27a4c511",
   "metadata": {},
   "source": [
    "indice: Séparez le dataframe en deux conditions (fumeur / non fumeur)\n",
    "Pour ça, vous pouvez sélectionner filtrer le dataframe en fonction de la valeur contenu dans la colonne \"SMOKE\". \n",
    "\n",
    "Exemple: \n",
    "\n",
    "<code> data[data['SMOKE'] == \"1\"] </code>\n"
   ]
  },
  {
   "cell_type": "code",
   "execution_count": null,
   "id": "fb8156ab",
   "metadata": {},
   "outputs": [],
   "source": []
  },
  {
   "cell_type": "markdown",
   "id": "c26b5ef2",
   "metadata": {},
   "source": [
    "## 4. Est-ce que le fait qu'une mère fume pendant la grossesse impacte-t-il négativement le poids de l'enfant à la naissance ?\n",
    "Rédigez les hypothèses H0 et H1, et répondez-y."
   ]
  },
  {
   "cell_type": "code",
   "execution_count": null,
   "id": "8449331f",
   "metadata": {},
   "outputs": [],
   "source": []
  },
  {
   "cell_type": "markdown",
   "id": "82ef2c14",
   "metadata": {},
   "source": [
    "## 5. Est-ce que poids de la mère est positivement lié au poids de son enfant  ?\n",
    "\n",
    "- Rédigez les hypothèses H0 et H1, et répondez-y.\n",
    "- Utilisez la fonction <code>pearsonr()</code> du package scipy.stats"
   ]
  },
  {
   "cell_type": "code",
   "execution_count": null,
   "id": "56786ae4",
   "metadata": {},
   "outputs": [],
   "source": []
  }
 ],
 "metadata": {
  "kernelspec": {
   "display_name": "Python 3 (ipykernel)",
   "language": "python",
   "name": "python3"
  },
  "language_info": {
   "codemirror_mode": {
    "name": "ipython",
    "version": 3
   },
   "file_extension": ".py",
   "mimetype": "text/x-python",
   "name": "python",
   "nbconvert_exporter": "python",
   "pygments_lexer": "ipython3",
   "version": "3.8.10"
  }
 },
 "nbformat": 4,
 "nbformat_minor": 5
}
