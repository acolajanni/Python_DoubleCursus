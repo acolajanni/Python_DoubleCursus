{
 "cells": [
  {
   "cell_type": "markdown",
   "metadata": {
    "id": "EmusvBttIM-K"
   },
   "source": [
    "## Introduction to Python\n",
    "We introduce here Python, a powerful and easy to learn programming language. It has efficient high-level data structures and a simple but effective approach to object-oriented programming (Python website). However, we'll only cover the strict minimum necessary for getting started with numerical computing."
   ]
  },
  {
   "cell_type": "markdown",
   "metadata": {
    "id": "70ZQ952BIM-O"
   },
   "source": [
    "### Step Zero\n",
    "\n",
    "For this tutorial, you can use Jupyter Notebook or Google Collab <https://colab.research.google.com/> if you did not manage to install Anaconda or Jupyter Notebook. If you choose the latter but are new to the process, you will have to import the file you are working with.\n",
    "\n",
    "\n",
    "### Manage cell\n",
    "\n",
    "Notebooks allows to make text cells (in marrkdown: a markup language to create formatted text), and code cells in Python.\n",
    "To change a code cell into a markdown cell, click in the cell, press <kbd>Echap</kbd> + <kbd>M</kbd>, to change into a code cell press <kbd>Echap</kbd> + <kbd>Y</kbd>.\n",
    "\n",
    "To execute the content of cell press <kbd>Ctrl</kbd> + <kbd>Enter</kbd> ; <kbd>Maj</kbd> + <kbd>Enter</kbd> will execute and create a new cell.\n",
    "\n",
    "\n",
    "\n",
    "### First steps\n",
    "\n",
    "Let's start with simple arithmetic operations because Python can be used as a regular calculator with standard arithmetic operations (addition, subtraction, multiplication, division, etc.)"
   ]
  },
  {
   "cell_type": "code",
   "execution_count": null,
   "metadata": {
    "id": "IjMRVT9XIM-O"
   },
   "outputs": [],
   "source": [
    "#Addition\n",
    "2+3"
   ]
  },
  {
   "cell_type": "code",
   "execution_count": null,
   "metadata": {
    "id": "3m8AJrgZIM-Q"
   },
   "outputs": [],
   "source": [
    "#Subtraction\n",
    "11-3"
   ]
  },
  {
   "cell_type": "code",
   "execution_count": null,
   "metadata": {
    "id": "tzNEl9DaIM-Q"
   },
   "outputs": [],
   "source": [
    "#Multiplication\n",
    "3*4"
   ]
  },
  {
   "cell_type": "code",
   "execution_count": null,
   "metadata": {
    "id": "feuaE2AAIM-R"
   },
   "outputs": [],
   "source": [
    "#Division\n",
    "11/5"
   ]
  },
  {
   "cell_type": "code",
   "execution_count": null,
   "metadata": {
    "id": "gDN4-rf0IM-T"
   },
   "outputs": [],
   "source": [
    "#Integer division\n",
    "11 // 5"
   ]
  },
  {
   "cell_type": "code",
   "execution_count": null,
   "metadata": {
    "id": "50Bb-VeiIM-T"
   },
   "outputs": [],
   "source": [
    "#Modulo operation\n",
    "11 % 5"
   ]
  },
  {
   "cell_type": "code",
   "execution_count": null,
   "metadata": {
    "id": "I4cE-2vZIM-U"
   },
   "outputs": [],
   "source": [
    "#Power\n",
    "2**3"
   ]
  },
  {
   "cell_type": "markdown",
   "metadata": {
    "id": "_RlvyzoGIM-W"
   },
   "source": [
    "Note that you cannot have spaces between digits of a number like 1 0."
   ]
  },
  {
   "cell_type": "code",
   "execution_count": null,
   "metadata": {
    "colab": {
     "base_uri": "https://localhost:8080/",
     "height": 106
    },
    "id": "Ca94Jl7KIM-W",
    "outputId": "ae476613-b70e-4d04-cd76-113cf4c125ef"
   },
   "outputs": [],
   "source": [
    "1 0"
   ]
  },
  {
   "cell_type": "code",
   "execution_count": null,
   "metadata": {
    "colab": {
     "base_uri": "https://localhost:8080/"
    },
    "id": "vTk8dgb_IM-X",
    "outputId": "8128d61d-9e7c-481d-ce93-ccc4d3c31c97"
   },
   "outputs": [],
   "source": [
    "10"
   ]
  },
  {
   "cell_type": "markdown",
   "metadata": {
    "id": "SHciwreWIM-Y"
   },
   "source": [
    "Native numeric types\n",
    "Python offers natively four main native numeric type, bool, integer, float and complex. But always keep in mind that they are the poor's man version of their mathematical equivalent (Boolean (𝔹), Integer (ℤ), Real (ℝ) and Complex (ℂ)): ìnteger have limited range, float and complex have limited range and precision.\n",
    "\n",
    "In the case of float and complex, this has very important consequences."
   ]
  },
  {
   "cell_type": "code",
   "execution_count": null,
   "metadata": {
    "colab": {
     "base_uri": "https://localhost:8080/"
    },
    "id": "tJcTOAX8IM-Y",
    "outputId": "76564dec-4a7b-4f49-e0f6-e43ae6c7c190"
   },
   "outputs": [],
   "source": [
    "2 + 1 == 3"
   ]
  },
  {
   "cell_type": "markdown",
   "metadata": {
    "id": "FK5tMHOgIM-Z"
   },
   "source": [
    "The reason is that decimal numbers 0.1 and 0.3 cannot be represented exactly and are only approximated. On most machines, if Python were to print the actual value of the approximation."
   ]
  },
  {
   "cell_type": "code",
   "execution_count": null,
   "metadata": {
    "colab": {
     "base_uri": "https://localhost:8080/"
    },
    "id": "UHXscuCrIM-Z",
    "outputId": "e7f33e81-abb5-49a1-f09a-4d58259311d9"
   },
   "outputs": [],
   "source": [
    "0.1 + 0.1 + 0.1 == 0.3"
   ]
  },
  {
   "cell_type": "code",
   "execution_count": null,
   "metadata": {
    "colab": {
     "base_uri": "https://localhost:8080/"
    },
    "id": "iBDnxymLJTQ8",
    "outputId": "fa749f20-0c3d-430a-d7d2-d696c844b31f"
   },
   "outputs": [],
   "source": [
    "print(0.1 + 0.1 + 0.1)"
   ]
  },
  {
   "cell_type": "code",
   "execution_count": null,
   "metadata": {
    "colab": {
     "base_uri": "https://localhost:8080/"
    },
    "id": "Oyrv9hSNIM-a",
    "outputId": "d80ebf5c-a63e-4ddc-cb5d-8c0e089037d2"
   },
   "outputs": [],
   "source": [
    "(0.1 + 0.1 + 0.1) - 0.3 < 1e-25"
   ]
  },
  {
   "cell_type": "markdown",
   "metadata": {
    "id": "PAjxUnD4IM-a"
   },
   "source": [
    "## Variables\n",
    "\n",
    "Until now, we have been playing in the console, throwing some expressions in the interpreted and checked the result. Problem is that those expression cannot be re-used. It's thus time to save us some trouble and assign those expressions to variables. This can be done quite naturally."
   ]
  },
  {
   "cell_type": "code",
   "execution_count": null,
   "metadata": {
    "id": "guENad4eIM-b"
   },
   "outputs": [],
   "source": [
    "x = 3\n",
    "alpha = 2*x\n",
    "print(x,alpha)"
   ]
  },
  {
   "cell_type": "code",
   "execution_count": null,
   "metadata": {
    "id": "1TyUIeNbIM-b"
   },
   "outputs": [],
   "source": [
    "width, height = 1, 2\n",
    "print(width, height)"
   ]
  },
  {
   "cell_type": "code",
   "execution_count": null,
   "metadata": {
    "id": "D3AVyMB1IM-c"
   },
   "outputs": [],
   "source": [
    "width = 1\n",
    "height = 2\n",
    "print(width)\n",
    "print(height)"
   ]
  },
  {
   "cell_type": "markdown",
   "metadata": {
    "id": "Yi3xlVU4IM-c"
   },
   "source": [
    "## Containers\n",
    "\n",
    "Beside the numeric types, Python also offers native container type (also known as collections), one is dedicated to the storage of ordered sequence of characters (i.e. strings) while some others allows to store just anything and offer different properties. In a nutshell:"
   ]
  },
  {
   "cell_type": "code",
   "execution_count": null,
   "metadata": {
    "id": "6y6HRi2WIM-c"
   },
   "outputs": [],
   "source": [
    "\"hello world\""
   ]
  },
  {
   "cell_type": "code",
   "execution_count": null,
   "metadata": {
    "id": "IT3-eaacIM-c"
   },
   "outputs": [],
   "source": [
    "\"1,2,3,4\" #string\n",
    "(1,2,3,4) #tuple\n",
    "[1,2,3,4] #list\n",
    "{1:2,3:4} #dictionary"
   ]
  },
  {
   "cell_type": "markdown",
   "metadata": {
    "id": "gC24lFU9IM-d"
   },
   "source": [
    "Strings\n",
    "Strings are expressed by enclosing a text using pairs of \" or ' characters. Depending on the character you chose, you can use the other inside the string."
   ]
  },
  {
   "cell_type": "code",
   "execution_count": null,
   "metadata": {
    "id": "tK4RI6kFIM-d"
   },
   "outputs": [],
   "source": [
    "print(\"This is a basic Python course for the medical schools in France. It is supposed to be 'extremely' easy for them to understand.\")"
   ]
  },
  {
   "cell_type": "code",
   "execution_count": null,
   "metadata": {
    "id": "EV9wFQlqIM-d"
   },
   "outputs": [],
   "source": [
    "print(\"This is the value of variable x:\", x)"
   ]
  },
  {
   "cell_type": "markdown",
   "metadata": {
    "id": "QEDH4HImIM-e"
   },
   "source": [
    "### Exercice 1: Manipulate containers indexing"
   ]
  },
  {
   "cell_type": "markdown",
   "metadata": {
    "id": "5kROi800IM-e"
   },
   "source": [
    "Indexing individual items of a list, tuple and strings can be accessed invidually using their position as index. Note that first element has index 0.\n",
    "\n",
    "<code>d[start:end:step]</code>"
   ]
  },
  {
   "cell_type": "code",
   "execution_count": null,
   "metadata": {
    "id": "76bnRTRgIM-e"
   },
   "outputs": [],
   "source": [
    "# Using Python Arrays\n",
    "d = [1,2,3,4,5,6]"
   ]
  },
  {
   "cell_type": "markdown",
   "metadata": {
    "id": "iNqXY94gIM-e"
   },
   "source": [
    "**Print the 5th item of the array d**"
   ]
  },
  {
   "cell_type": "code",
   "execution_count": null,
   "metadata": {
    "id": "vd10tgrVIM-f"
   },
   "outputs": [],
   "source": []
  },
  {
   "cell_type": "markdown",
   "metadata": {
    "id": "Kk9a1DdBIM-f"
   },
   "source": [
    "**Print the first 4 items of the array d**"
   ]
  },
  {
   "cell_type": "code",
   "execution_count": null,
   "metadata": {
    "id": "CTwOIi88IM-f"
   },
   "outputs": [],
   "source": []
  },
  {
   "cell_type": "markdown",
   "metadata": {
    "id": "b52vu90YIM-g"
   },
   "source": [
    "**Print the first the and third item of the array d**"
   ]
  },
  {
   "cell_type": "code",
   "execution_count": null,
   "metadata": {
    "id": "ucv8H2TLIM-g"
   },
   "outputs": [],
   "source": []
  },
  {
   "cell_type": "markdown",
   "metadata": {
    "id": "EeIOJKccIM-g"
   },
   "source": [
    "**Print the last 2 items of the array d** AND **Print the items after the 4th one**"
   ]
  },
  {
   "cell_type": "code",
   "execution_count": null,
   "metadata": {
    "id": "eRV63NvCIM-g"
   },
   "outputs": [],
   "source": []
  },
  {
   "cell_type": "code",
   "execution_count": null,
   "metadata": {
    "id": "Sf0CdyEdIM-h"
   },
   "outputs": [],
   "source": []
  },
  {
   "cell_type": "markdown",
   "metadata": {
    "id": "n-O7usCEIM-h"
   },
   "source": [
    "Furthermore, we can also access a range of items using the slice notation <code>d[start:end]</code>. **Note that both start and end are optional.**\n",
    "\n",
    "If **start** is **missing**, **Python will implicitly replace it by the start of the list**.\n",
    "\n",
    "If **end** is **missing**, **Python will implicitly replace it by the end of the list.**\n",
    "\n",
    "#### Example:"
   ]
  },
  {
   "cell_type": "code",
   "execution_count": null,
   "metadata": {
    "id": "ZgXrGDPOIM-h"
   },
   "outputs": [],
   "source": [
    "d[1:]"
   ]
  },
  {
   "cell_type": "code",
   "execution_count": null,
   "metadata": {
    "id": "dF1C2vXrIM-i"
   },
   "outputs": [],
   "source": [
    "d[:2]"
   ]
  },
  {
   "cell_type": "code",
   "execution_count": null,
   "metadata": {
    "id": "p9_WfsLkIM-j"
   },
   "outputs": [],
   "source": [
    "d[:]"
   ]
  },
  {
   "cell_type": "markdown",
   "metadata": {
    "id": "ZIaYKn1AIM-j"
   },
   "source": [
    "We can further refine our slice by giving the step to between elements. The new syntax is thus <code>d[start:end:step]</code>."
   ]
  },
  {
   "cell_type": "code",
   "execution_count": null,
   "metadata": {
    "id": "56DmjgEXIM-j"
   },
   "outputs": [],
   "source": [
    "d[0:5:2]"
   ]
  },
  {
   "cell_type": "code",
   "execution_count": null,
   "metadata": {
    "id": "cbZqhNxLIM-k"
   },
   "outputs": [],
   "source": [
    "d[::2]"
   ]
  },
  {
   "cell_type": "code",
   "execution_count": null,
   "metadata": {
    "id": "RVTZi78rIM-k"
   },
   "outputs": [],
   "source": [
    "#negative steps\n",
    "d[::-1]"
   ]
  },
  {
   "cell_type": "code",
   "execution_count": null,
   "metadata": {
    "id": "RJ790Na-IM-k"
   },
   "outputs": [],
   "source": [
    "d[:4]"
   ]
  },
  {
   "cell_type": "markdown",
   "metadata": {
    "id": "2RHzqFfIIM-l"
   },
   "source": [
    "### Exercice 2a: Adding and removing items in a containers\n",
    "\n",
    "Adding an element to a mutable container can be done in distinct ways.\n",
    "\n",
    "1. **By creating a new container that is the addition of two containers using the <code>+</code> symbol**."
   ]
  },
  {
   "cell_type": "code",
   "execution_count": null,
   "metadata": {
    "id": "VHaPAsgYIM-l"
   },
   "outputs": [],
   "source": [
    "l1 = [1, 2, 3]\n",
    "l2 = [4, 5]"
   ]
  },
  {
   "cell_type": "code",
   "execution_count": null,
   "metadata": {
    "id": "jxr81EHmIM-m"
   },
   "outputs": [],
   "source": []
  },
  {
   "cell_type": "markdown",
   "metadata": {},
   "source": [
    "2. **By inserting the new item into the container, hence modyfying it.**  :"
   ]
  },
  {
   "cell_type": "markdown",
   "metadata": {
    "id": "ly-TXlVlIM-m"
   },
   "source": [
    "### Exercice 2b: Duplicate the content of l1:\n",
    "\n",
    " **Use the multiplication symbol:**"
   ]
  },
  {
   "cell_type": "code",
   "execution_count": null,
   "metadata": {
    "id": "v85SPeHyIM-m"
   },
   "outputs": [],
   "source": []
  },
  {
   "cell_type": "markdown",
   "metadata": {
    "id": "STAzEqrHIM-m"
   },
   "source": [
    "### Exercice 2c: Add content at the end of l1:\n",
    "   \n",
    "   \n",
    "**Add another number to l1:**\n",
    "\n",
    "Using the method <code>**append()**</code> with the syntax: <code>**l1.append()**</code>\n",
    "\n"
   ]
  },
  {
   "cell_type": "code",
   "execution_count": null,
   "metadata": {
    "id": "smFAHPLbIM-m"
   },
   "outputs": [],
   "source": []
  },
  {
   "cell_type": "markdown",
   "metadata": {
    "id": "t9i-0uGXIM-n"
   },
   "source": [
    "**Remove items using index:**\n",
    "\n",
    "Using the method <code>**del**</code> followed by the array and index\n"
   ]
  },
  {
   "cell_type": "markdown",
   "metadata": {
    "id": "3Tvl-mqkIM-n"
   },
   "source": [
    "### Exercice 2d: **Remove the 5th item of the l1:**"
   ]
  },
  {
   "cell_type": "code",
   "execution_count": null,
   "metadata": {
    "id": "SMyROHNAIM-o"
   },
   "outputs": [],
   "source": [
    "#removing\n",
    "l1 = [1, 2, 3, 4, 5, 6]\n",
    "\n",
    "#Your solution:\n"
   ]
  },
  {
   "cell_type": "markdown",
   "metadata": {
    "id": "uv3MyAxsIM-o"
   },
   "source": [
    "### Exercice 2e: **Remove every second item of l1 / Remove the even indexes from l1**"
   ]
  },
  {
   "cell_type": "code",
   "execution_count": null,
   "metadata": {
    "id": "KFFlgxnuIM-o"
   },
   "outputs": [],
   "source": [
    "#deleting a range of indices\n",
    "l1 = [1, 2, 3, 4, 5, 6]\n",
    "\n",
    "#Your solution:\n"
   ]
  },
  {
   "cell_type": "markdown",
   "metadata": {
    "id": "QFh4_Bt9IM-p"
   },
   "source": [
    "## Control flow\n",
    "\n",
    "Control flow is the order in which instruction are evaluated or not evaluated. This is a very important aspect of programming and it is thus of the utmost importance to fully understand and masterize it.\n",
    "\n",
    "### *Conditional execution*\n",
    "\n",
    "One of the simplest way to control flow of execution is to have a condition that tells Python to execute a block of instruction only if a condition is true:"
   ]
  },
  {
   "cell_type": "code",
   "execution_count": null,
   "metadata": {
    "id": "cJF3VIWOIM-p",
    "outputId": "ec15709a-897c-4334-bba7-728b9ed5265d"
   },
   "outputs": [],
   "source": [
    "a = 3\n",
    "b = 5\n",
    "a + b == 8"
   ]
  },
  {
   "cell_type": "code",
   "execution_count": null,
   "metadata": {
    "id": "po_K23JJIM-q",
    "outputId": "35b9d06e-314a-427c-a8f5-3cef5212a89d"
   },
   "outputs": [],
   "source": [
    "number = 4\n",
    "if number < 4:\n",
    "    print(\"smaller\")\n",
    "elif number >= 4 :\n",
    "    print(\"larger or equal\")\n",
    "elif number == 4:\n",
    "     print(\"equal \")\n",
    "else:\n",
    "    print(\"no idea\")\n"
   ]
  },
  {
   "cell_type": "markdown",
   "metadata": {
    "id": "yu4AHPW3IM-r"
   },
   "source": [
    "### Exercice 3.a: Write a code to tell if a number is even\n",
    "\n",
    "indication:\n",
    "\n",
    "Use the modulo: <code>**%**</code> to determine the remainder of the division of a variable by a given number.\n",
    "\n",
    "An even number is defined as any integer that is divisible by 2, without leaving a remainder. To express this mathematically, we use the modulo operation."
   ]
  },
  {
   "cell_type": "code",
   "execution_count": null,
   "metadata": {
    "colab": {
     "base_uri": "https://localhost:8080/"
    },
    "id": "N4E50_S0IM-r",
    "outputId": "1714b5a1-4755-4d80-dcba-3cdf60d8c42f"
   },
   "outputs": [],
   "source": [
    "number = 8\n",
    "# Your solution :\n",
    "if \"Add your test here\" : # is it even ?\n",
    "   print(\"{0} is even\".format(number))\n",
    "else:\n",
    "    print(\"{0} is odd\".format(number))"
   ]
  },
  {
   "cell_type": "markdown",
   "metadata": {
    "id": "fV4JBbvBIM-s"
   },
   "source": [
    "If you run this small program, you should the string **\"8 is even\"** displayed on your screen. You might have noticed the **print function is indented and this is something really important in Python**.\n",
    "\n",
    "**Everything that has the same level of indentation (4 spaces in our case) constitutes a logical block.**\n",
    "\n",
    "\n",
    "If we want to execute more code when the condition is true, we just add new instruction with the same level:\n"
   ]
  },
  {
   "cell_type": "code",
   "execution_count": null,
   "metadata": {
    "id": "cuJTgbhCIM-s",
    "outputId": "e92e7296-4443-47cd-9587-824091139159"
   },
   "outputs": [],
   "source": [
    "number = 8\n",
    "# Your solution :\n",
    "if...:                # is it even ?\n",
    "    print(\"{0} is even\".format(number), end=\" \")\n",
    "    print(\"Because...\")"
   ]
  },
  {
   "cell_type": "markdown",
   "metadata": {
    "id": "tDm7VB5lIM-t"
   },
   "source": [
    "### Exercice 3.b: Write a code to inspect an array.\n",
    "\n",
    " 1. If array l1 has 5 items ; test various conditions ; if not print the array\n",
    "\n",
    " 2. Test if second item of l1 is even, odd, or a floating-point number\n",
    "\n",
    "indication:\n",
    "\n",
    "Use the <code>**len()**</code> to determine the number of item in an array"
   ]
  },
  {
   "cell_type": "code",
   "execution_count": null,
   "metadata": {
    "id": "yGhJQLFnIM-t"
   },
   "outputs": [],
   "source": [
    "l1 = [1 , 1.5 , 3 , 4 , 5]\n",
    "\n",
    "if... :\n",
    "    if... :\n",
    "        print(\"{0} is an even number\".format(l1[1]) )\n",
    "\n",
    "    elif... :\n",
    "        print(\"{0} is an odd number\".format(l1[1]) )\n",
    "\n",
    "    else :\n",
    "        print(\"{0} is not an integer\".format(l1[1]) )\n",
    "\n",
    "else:\n",
    "    print(l1)"
   ]
  },
  {
   "cell_type": "markdown",
   "metadata": {
    "id": "lYKgeDb0IM-u"
   },
   "source": [
    "###  *Iterations*\n",
    "\n",
    "Another way to control the flow of execution is to ask Python to repeat some instructions using the range instruction:"
   ]
  },
  {
   "cell_type": "code",
   "execution_count": null,
   "metadata": {
    "id": "U58YKrx1IM-u",
    "outputId": "147d4bb9-e103-41a7-e6e1-7537fba83c4d"
   },
   "outputs": [],
   "source": [
    "range(3)"
   ]
  },
  {
   "cell_type": "code",
   "execution_count": null,
   "metadata": {
    "id": "CuEr9KR3IM-u",
    "outputId": "904694d7-a88f-4d75-871b-7f8114194f8c"
   },
   "outputs": [],
   "source": [
    "for i in range(3):\n",
    "    print(i)"
   ]
  },
  {
   "cell_type": "code",
   "execution_count": null,
   "metadata": {
    "id": "cPor1DweIM-v",
    "outputId": "921c0220-c4d7-463f-9f6c-480f23459052"
   },
   "outputs": [],
   "source": [
    "range(0,10,2)"
   ]
  },
  {
   "cell_type": "code",
   "execution_count": null,
   "metadata": {
    "id": "zG6OwA0zIM-v",
    "outputId": "8f9d23a2-0172-43fa-c07c-c825ff980899"
   },
   "outputs": [],
   "source": [
    "for i in range(0,10,4):\n",
    "    print(i)"
   ]
  },
  {
   "cell_type": "code",
   "execution_count": null,
   "metadata": {
    "id": "17OaTxK_IM-v",
    "outputId": "6a8a577a-5680-489b-8a48-0d991998e1a5"
   },
   "outputs": [],
   "source": [
    "for i in range(5):\n",
    "    print(i, i+10)\n"
   ]
  },
  {
   "cell_type": "markdown",
   "metadata": {
    "id": "lsNIfHggIM-w"
   },
   "source": [
    "### Exercice 4: write a code to loop from 50 to 0, with a step of 10:"
   ]
  },
  {
   "cell_type": "code",
   "execution_count": null,
   "metadata": {
    "id": "UQwmh0UtIM-w",
    "outputId": "6faea6ec-6bfa-49d3-9c10-e619c4466838"
   },
   "outputs": [],
   "source": [
    "for i in range(): # Add something here\n",
    "    print(i)"
   ]
  },
  {
   "cell_type": "markdown",
   "metadata": {
    "id": "bIoCwFd1IM-w"
   },
   "source": [
    "### *Loops*\n",
    "\n",
    "If you don't konw in advance how many times you want to repeat something, you can use the while(condition) instruction that will repeat a block of instruction while the condition is True. When the condition becomes False, the loop terminates:"
   ]
  },
  {
   "cell_type": "code",
   "execution_count": null,
   "metadata": {
    "id": "rm3RzTkdIM-x",
    "outputId": "86759124-b7a1-4291-f4dc-9445d2e68e94"
   },
   "outputs": [],
   "source": [
    "a = 0\n",
    "while a < 10:\n",
    "     a = a+1\n",
    "     print(a)"
   ]
  },
  {
   "cell_type": "code",
   "execution_count": null,
   "metadata": {
    "id": "IlusTIhiIM-y",
    "outputId": "813ca120-e6ac-44b4-ede4-a0138323f900"
   },
   "outputs": [],
   "source": [
    "a = 0\n",
    "while a < 10:\n",
    "    a = a+1\n",
    "\n",
    "    if a > 8:\n",
    "        break\n",
    "\n",
    "print(a)"
   ]
  },
  {
   "cell_type": "markdown",
   "metadata": {
    "id": "zHqwa279IM-y"
   },
   "source": [
    "You can also loop inside a character chain:"
   ]
  },
  {
   "cell_type": "code",
   "execution_count": null,
   "metadata": {
    "id": "7DbGAOYmIM-y",
    "outputId": "68f109d9-ffaf-4b72-945c-51627dff49f8"
   },
   "outputs": [],
   "source": [
    "for c in \"Python\":\n",
    "    print(c)\n"
   ]
  },
  {
   "cell_type": "markdown",
   "metadata": {
    "id": "4T3OhwQhIM-z"
   },
   "source": [
    "you can use <code>**enumerate()**</code> to loop through both index and item of an array/string"
   ]
  },
  {
   "cell_type": "code",
   "execution_count": null,
   "metadata": {
    "id": "X2rL-fsiIM-z",
    "outputId": "692a942c-7253-4503-91bb-3c8e3b910e6c"
   },
   "outputs": [],
   "source": [
    "for index,c in enumerate(\"Python\"):\n",
    "    print(\"{0} : {1}\".format(index, c))"
   ]
  },
  {
   "cell_type": "markdown",
   "metadata": {
    "id": "f-mA0-zIIM-0"
   },
   "source": [
    "## Functions\n",
    "\n",
    "Functions are code snippet that can be defined and called from anywhere in your program. For example, if you are often doing the same computation, it might be a good idea to define a function to do this computation and to call this function when necessary. The advantage of doing so is that the actual computation is defined in one place where you can control that he computation is correct. If you don't do that and copy/paste your code snippet everywhere, you might forget later to change all of them if you find a bug.\n",
    "\n",
    "#### Definition\n",
    "\n",
    "To define a function, you need a name, a list of arguments (that can be empty) and some code to be executed when the function is called:\n",
    "\n"
   ]
  },
  {
   "cell_type": "code",
   "execution_count": null,
   "metadata": {
    "id": "985l_VdUIM-0",
    "outputId": "c3aa80f5-360a-4915-86c5-24d787d47eb3"
   },
   "outputs": [],
   "source": [
    "def hello():\n",
    "    print(\"Hello world\")\n",
    "hello()"
   ]
  },
  {
   "cell_type": "markdown",
   "metadata": {
    "id": "UKDjxkGYIM-0"
   },
   "source": [
    "### Exercice 5a: write function to compute the area and perimeter of a disc:\n",
    "\n",
    "indication:\n",
    "- area = Pi x radius x radius\n",
    "- perimeter = 2 x Pi x radius\n",
    "- Pi: <code>**np.pi**</code>"
   ]
  },
  {
   "cell_type": "code",
   "execution_count": null,
   "metadata": {
    "id": "-K9GNRHVIM-1"
   },
   "outputs": [],
   "source": [
    "import numpy as np\n",
    "\n",
    "def disc_area(radius):\n",
    "    \"\"\"This function finds the disc area and perimeter from the radius.\n",
    "    Arguments:\n",
    "        radius: float\n",
    "    Returns:\n",
    "        area: float\n",
    "    \"\"\"\n",
    "    area = ...\n",
    "    perimeter = ...\n",
    "    return area, perimeter"
   ]
  },
  {
   "cell_type": "markdown",
   "metadata": {
    "id": "9sfHmNIMIM-1"
   },
   "source": [
    "### Exercice 5b:\n",
    "1. Build a for loop that goes through different radii and computes the disc area and perimeter for each of them\n",
    "2. Store them in 2 separate arrays and print them\n",
    "\n",
    "\n",
    "hint: use <code>.append()</code> to add something in a list"
   ]
  },
  {
   "cell_type": "code",
   "execution_count": null,
   "metadata": {
    "id": "GDV4I_RzIM-1"
   },
   "outputs": [],
   "source": [
    "area_list = []\n",
    "perimeter_list = []\n",
    "for i in range(20):\n",
    "    ..."
   ]
  },
  {
   "cell_type": "markdown",
   "metadata": {
    "id": "dlsKyrcNIM-1"
   },
   "source": [
    "## List comprehensions\n",
    "\n",
    "\n",
    "List comprehension offers a shorter syntax when you want to create a new list based on the values of an existing list."
   ]
  },
  {
   "cell_type": "code",
   "execution_count": null,
   "metadata": {
    "id": "7D0My4_4IM-1",
    "outputId": "9ef75de6-05ca-4e6e-eb3c-f9e6f0715ef5"
   },
   "outputs": [],
   "source": [
    "#list comprehensions: Returns the square value of various number\n",
    "\n",
    "l =  [i**2 for i in range(4)]\n",
    "l"
   ]
  },
  {
   "cell_type": "markdown",
   "metadata": {
    "id": "2LRiNQzoIM-2"
   },
   "source": [
    "NumPy and Matplotlib\n",
    "NumPy (Python library): creating and manipulating numerical data.\n",
    "NumPy provides a high-performance multidimensional array object, and tools for working with these arrays. \\\n",
    "References and detailed documentation can be found: https://numpy.org/doc/."
   ]
  },
  {
   "cell_type": "code",
   "execution_count": null,
   "metadata": {
    "id": "4bu1dgB6IM-2"
   },
   "outputs": [],
   "source": [
    "import matplotlib.pyplot as plt\n",
    "import numpy as np"
   ]
  },
  {
   "cell_type": "code",
   "execution_count": null,
   "metadata": {
    "id": "JQuhk4vQIM-3",
    "outputId": "8e0f0b45-4916-4a15-f15c-4adf37eae5fb"
   },
   "outputs": [],
   "source": [
    "L = range(1000)\n",
    "%timeit [i**2 for i in L]\n",
    "\n",
    "#time it takes using numpy\n",
    "a = np.arange(1000)\n",
    "%timeit a**2"
   ]
  },
  {
   "cell_type": "markdown",
   "metadata": {
    "id": "LOBBSEf7IM-3"
   },
   "source": [
    "#### *How to create arrays using NumPy?*"
   ]
  },
  {
   "cell_type": "code",
   "execution_count": null,
   "metadata": {
    "id": "fEPdBcNYIM-3",
    "outputId": "3296ed3d-eb9c-4b62-c2eb-08297f419357"
   },
   "outputs": [],
   "source": [
    "#np.arange and np.linspace\n",
    "a = np.arange(1, 9, 2) #start, end (exclusive), step\n",
    "print(a)\n"
   ]
  },
  {
   "cell_type": "code",
   "execution_count": null,
   "metadata": {
    "id": "AyOoQ123IM-3",
    "outputId": "28945026-86dc-402d-852f-e38ffa86a0d7"
   },
   "outputs": [],
   "source": [
    "b = np.linspace(0, 1, 5)   # start, end, num-points\n",
    "print(b)\n",
    "c = np.linspace(0, 1, 5, endpoint=False)\n",
    "print(c)"
   ]
  },
  {
   "cell_type": "code",
   "execution_count": null,
   "metadata": {
    "id": "WqFUHocTIM-4",
    "outputId": "523aba14-df06-424f-bcb4-3923fd790792"
   },
   "outputs": [],
   "source": [
    "import matplotlib.pyplot as plt\n",
    "onearray= np.random.rand(5,7)\n",
    "print(onearray)\n",
    "plt.imshow(onearray)"
   ]
  },
  {
   "cell_type": "code",
   "execution_count": null,
   "metadata": {
    "id": "tBg_r1jpIM-5",
    "outputId": "3e746943-314f-4135-bfdc-d3fecf873803"
   },
   "outputs": [],
   "source": [
    "onearray.shape"
   ]
  },
  {
   "cell_type": "code",
   "execution_count": null,
   "metadata": {
    "id": "D3204-e7IM-5",
    "outputId": "32b1bdcb-448d-4714-816d-d0b3f621000b"
   },
   "outputs": [],
   "source": [
    "a_ = np.zeros((3, 3)) #array of zeros with a defined shape (3,3)\n",
    "print(a_, \"Shape of array:\", a_.shape)\n",
    "\n",
    "b_ = np.ones((2, 2))  #array of ones with a defined shape (2,2)\n",
    "print(b_, \"Shape of array:\", b_.shape)\n",
    "\n",
    "c_ = np.full((2,2), 7) #array of (2,2) of 7s\n",
    "print(c_, \"Shape of array:\", c_.shape)"
   ]
  },
  {
   "cell_type": "markdown",
   "metadata": {
    "id": "NLwqkl1vIM-5"
   },
   "source": [
    "1D arrays"
   ]
  },
  {
   "cell_type": "code",
   "execution_count": null,
   "metadata": {
    "id": "hUuNE-mgIM-5",
    "outputId": "480a99f6-1193-41d8-f88f-1bebb76ceb9b"
   },
   "outputs": [],
   "source": [
    "a = np.array([0,1,2,3,4]) #rank 1 array\n",
    "print(\"The array you first created is:\" , a)\n",
    "print(\"The type of the array is \", type(a))\n",
    "print(\"The dimensions of the array are:\", a.ndim)\n",
    "print(\"The shape of the array is:\", a.shape)\n",
    "print(\"The length of the array is:\", len(a))\n",
    "print(\"The first, second and third elements of the array are:\", a[0], a[1], a[2])"
   ]
  },
  {
   "cell_type": "markdown",
   "metadata": {
    "id": "poVtUTCQIM-6"
   },
   "source": [
    "Indexing in Multidimensional arrays"
   ]
  },
  {
   "cell_type": "code",
   "execution_count": null,
   "metadata": {
    "colab": {
     "base_uri": "https://localhost:8080/"
    },
    "id": "QMsMqOYXIM-6",
    "outputId": "26217a2f-50a4-416e-869d-1571773347ea"
   },
   "outputs": [],
   "source": [
    "a = np.diag(np.arange(3))\n",
    "print(a)\n",
    "#First index is row, second is column\n",
    "print(\"The element in the third row, second column of the matrix is:\", a[2,1])\n",
    "print(\"The element in the third row, third column of the matrix is:\", a[2,2])\n",
    "print(\"The element in the first row, third column of the matrix is:\", a[0,2])"
   ]
  },
  {
   "cell_type": "markdown",
   "metadata": {
    "id": "E8l6UitpIM-6"
   },
   "source": [
    "Plotting with Matplotlib"
   ]
  },
  {
   "cell_type": "code",
   "execution_count": null,
   "metadata": {
    "id": "Q8JbCNZFIM-6",
    "outputId": "a2d2db65-8c9d-4a0d-a11f-c1bba5c1150d"
   },
   "outputs": [],
   "source": [
    "help(plt.legend)"
   ]
  },
  {
   "cell_type": "code",
   "execution_count": null,
   "metadata": {
    "id": "mXJDH6YCIM-7",
    "outputId": "2c511a84-4cfd-4b06-efbd-07cb5ba96ed5"
   },
   "outputs": [],
   "source": [
    "import matplotlib.pyplot as plt\n",
    "\n",
    "X = np.linspace(-np.pi, np.pi, 1000)\n",
    "Y = np.sin(X)\n",
    "Z = np.cos(X)\n",
    "plt.plot(X, Y, label = \"sine\")\n",
    "plt.plot(X,Z, label = \"cosine\")\n",
    "plt.legend()\n",
    "plt.show()"
   ]
  },
  {
   "cell_type": "code",
   "execution_count": null,
   "metadata": {
    "id": "6VTYSvaRIM-8",
    "outputId": "bb2cb755-208d-4f57-90e3-740441a14391"
   },
   "outputs": [],
   "source": [
    "fig,ax = plt.subplots()\n",
    "\n",
    "ax.plot(X, Y, marker=\"o\", markevery=(0, 32), markerfacecolor=\"white\", label = \"sine\")\n",
    "ax.plot(X, Z, marker=\"o\", markevery=(0, 32), markerfacecolor=\"white\", label = \"cosine\")\n",
    "\n",
    "# Set the x/y ticks and their labels\n",
    "ax.set_xticks([-np.pi, -np.pi/2, np.pi/2, np.pi])\n",
    "ax.set_xticklabels([\"-π\", \"-π/2\", \"π/2\", \"$π$\"])\n",
    "ax.set_yticks([-1,1])\n",
    "ax.set_yticklabels([\"-1\", \"+1\"])\n",
    "plt.legend()\n",
    "plt.show()"
   ]
  },
  {
   "cell_type": "markdown",
   "metadata": {
    "id": "aHCfn7fsIM-8"
   },
   "source": [
    "### Exercice 6:  Plot the areas and the Perimeters based on these indexes:\n",
    "\n",
    "indication:\n",
    "\n",
    "use <code>**plt.xlabel()**</code>, <code>**plt.ylabel()**</code>, <code>**plt.title()**</code> to name both axis and the plot"
   ]
  },
  {
   "cell_type": "code",
   "execution_count": null,
   "metadata": {
    "id": "CqGEzckHIM-8"
   },
   "outputs": [],
   "source": [
    "index = [i for i in range(20)]\n"
   ]
  },
  {
   "cell_type": "code",
   "execution_count": null,
   "metadata": {
    "id": "NJF6WCcZIM-8"
   },
   "outputs": [],
   "source": [
    "plt.plot(index, ...)\n",
    "plt.plot(index, ...)\n",
    "plt.legend()\n",
    "plt.show()"
   ]
  }
 ],
 "metadata": {
  "colab": {
   "provenance": []
  },
  "kernelspec": {
   "display_name": "Python 3 (ipykernel)",
   "language": "python",
   "name": "python3"
  },
  "language_info": {
   "codemirror_mode": {
    "name": "ipython",
    "version": 3
   },
   "file_extension": ".py",
   "mimetype": "text/x-python",
   "name": "python",
   "nbconvert_exporter": "python",
   "pygments_lexer": "ipython3",
   "version": "3.8.10"
  },
  "vscode": {
   "interpreter": {
    "hash": "40d3a090f54c6569ab1632332b64b2c03c39dcf918b08424e98f38b5ae0af88f"
   }
  }
 },
 "nbformat": 4,
 "nbformat_minor": 1
}
