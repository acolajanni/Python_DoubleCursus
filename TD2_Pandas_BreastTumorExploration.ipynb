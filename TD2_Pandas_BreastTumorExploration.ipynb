{
 "cells": [
  {
   "cell_type": "markdown",
   "metadata": {
    "id": "3vP0zjhmgQFp",
    "nbpresent": {
     "id": "f9774957-e9a8-4e5d-a3a2-11d58c98f4f3"
    }
   },
   "source": [
    "# Breast Tumor Data Exploration\n",
    "  \n",
    "  \n",
    "\n",
    "Breast cancer is the most common malignancy among women, accounting for nearly 1 in 3 cancers diagnosed among women in the United States, and it is the second leading cause of cancer death among women. Breast Cancer occurs as a results of abnormal growth of cells in the breast tissue, commonly referred to as a Tumor. A tumor does not mean cancer - tumors can be benign (not cancerous), pre-malignant (pre-cancerous), or malignant (cancerous). Tests such as MRI, mammogram, ultrasound and biopsy are commonly used to diagnose breast cancer performed.\n",
    "\n",
    "The [Breast Cancer](https://archive.ics.uci.edu/ml/datasets/Breast+Cancer+Wisconsin+%28Diagnostic%29) datasets is available machine learning repository maintained by the University of California, Irvine. The dataset contains **569 samples of malignant and benign tumor cells**.\n",
    "* The first two columns in the dataset store the unique ID numbers of the samples and the corresponding diagnosis (M=malignant, B=benign), respectively.\n",
    "* The columns 3-32 contain 30 real-value features that have been computed from digitized images of the cell nuclei, which can be used to build a model to predict whether a tumor is benign or malignant.\n",
    "\n",
    "#### Getting Started: Load libraries and set options"
   ]
  },
  {
   "cell_type": "code",
   "execution_count": null,
   "metadata": {
    "id": "KpA8rrbHgQFu",
    "nbpresent": {
     "id": "e7a5c9bd-eaa8-4f5e-9e19-18ceea5e11af"
    }
   },
   "outputs": [],
   "source": [
    "#load libraries\n",
    "import numpy as np         # linear algebra\n",
    "import pandas as pd        # data processing, CSV file I/O (e.g. pd.read_csv)"
   ]
  },
  {
   "cell_type": "markdown",
   "metadata": {
    "id": "SuLnjcSFgQFw"
   },
   "source": [
    "#### Load Dataset\n",
    "\n",
    "First, load the supplied CSV file using additional options in the Pandas read_csv function."
   ]
  },
  {
   "cell_type": "code",
   "execution_count": null,
   "metadata": {
    "colab": {
     "base_uri": "https://localhost:8080/",
     "height": 424
    },
    "id": "XjV-EWi6gQFx",
    "outputId": "e7e2df08-c016-480f-9734-73137197df3b"
   },
   "outputs": [],
   "source": [
    "# For Google colab users\n",
    "url = 'https://raw.githubusercontent.com/acolajanni/Python_DoubleCursus/main/data/Breast_cancer.csv'\n",
    "\n",
    "data = pd.read_csv(url)\n",
    "data"
   ]
  },
  {
   "cell_type": "code",
   "execution_count": null,
   "metadata": {
    "colab": {
     "base_uri": "https://localhost:8080/"
    },
    "id": "5GzJQKWcgQFz",
    "outputId": "ac23c7b1-aa97-4131-e13f-b72a60876d9b"
   },
   "outputs": [],
   "source": [
    "data.columns"
   ]
  },
  {
   "cell_type": "markdown",
   "metadata": {
    "id": "8EjlPe_XgQF0",
    "nbpresent": {
     "id": "b6af97c7-30d4-4fc6-b9d5-a213f70788c2"
    }
   },
   "source": [
    "#### Inspecting the data\n",
    "The first step is to visually inspect the new data set. There are multiple ways to achieve this:\n",
    "* The easiest being to request the first few records using the DataFrame data.head()* method. By default, “data.head()” returns the first 5 rows from the DataFrame object df (excluding the header row).\n",
    "* Alternatively, one can also use “df.tail()” to return the five rows of the data frame.\n",
    "* For both head and  tail methods, there is an option to specify the number of records by including the required number in between the parentheses when calling either method.Inspecting the data"
   ]
  },
  {
   "cell_type": "code",
   "execution_count": null,
   "metadata": {
    "id": "Po5avxB0gQF2",
    "nbpresent": {
     "id": "3411a17b-52dd-4b3d-8ec4-22e6ea79a516"
    }
   },
   "outputs": [],
   "source": [
    "data.head(5)"
   ]
  },
  {
   "cell_type": "code",
   "execution_count": null,
   "metadata": {
    "id": "APy98olsgQF3"
   },
   "outputs": [],
   "source": [
    "data.tail(5)"
   ]
  },
  {
   "cell_type": "code",
   "execution_count": null,
   "metadata": {
    "id": "Zt3Vp4jWgQF4",
    "nbpresent": {
     "id": "678c0d45-faba-4084-9235-0923c653792a"
    }
   },
   "outputs": [],
   "source": [
    "# Id column is redundant and not useful, we want to drop it\n",
    "data.drop('id', axis = 1, inplace=True)\n",
    "#data.drop('Unnamed: 0', axis=1, inplace=True)\n",
    "data.head(5)"
   ]
  },
  {
   "cell_type": "markdown",
   "metadata": {
    "id": "0SU0Q7NTgQF7"
   },
   "source": [
    "You can check the number of cases, as well as the number of fields, using the shape method, as shown below."
   ]
  },
  {
   "cell_type": "code",
   "execution_count": null,
   "metadata": {
    "id": "sEelEqMygQF8",
    "nbpresent": {
     "id": "0a72bf45-3489-4633-a99f-d4fba5d072ac"
    }
   },
   "outputs": [],
   "source": [
    "data.shape"
   ]
  },
  {
   "cell_type": "markdown",
   "metadata": {
    "id": "p2TlSeNegQF9",
    "nbpresent": {
     "id": "01bd515a-1951-4ae7-8d39-a96079fc9eff"
    }
   },
   "source": [
    "In the result displayed, you can see the data has 569 records, each with 32 columns.\n",
    "\n",
    "The **“info()”** method provides a concise summary of the data; from the output, it provides the type of data in each column, the number of non-null values in each column, and how much memory the data frame is using.\n",
    "\n",
    "The method **dtypes.value_counts()** will return the number of columns of each type in a DataFrame:"
   ]
  },
  {
   "cell_type": "code",
   "execution_count": null,
   "metadata": {
    "colab": {
     "base_uri": "https://localhost:8080/",
     "height": 508
    },
    "id": "KjVWCfvwgQF-",
    "nbpresent": {
     "id": "e6f8be49-68cc-4381-9b0f-c872712045b6"
    },
    "outputId": "9503a409-1b52-4d6f-a48d-5667f55b723c"
   },
   "outputs": [],
   "source": [
    "# Review data types with \"info()\".\n",
    "data.info()\n",
    "data.dtypes.value_counts()"
   ]
  },
  {
   "cell_type": "markdown",
   "metadata": {
    "id": "-X0c_56ZgQF-",
    "nbpresent": {
     "id": "65d636e8-6dca-4a24-988f-10dac2b05134"
    }
   },
   "source": [
    "From the above results, from the 31 variables column id number 1: \"diagnosis\" with 569 non-null object, the rest are float. More on [python variables](https://www.tutorialspoint.com/python/python_variable_types.htm)"
   ]
  },
  {
   "cell_type": "code",
   "execution_count": null,
   "metadata": {
    "colab": {
     "base_uri": "https://localhost:8080/",
     "height": 461
    },
    "id": "PXK5PJoxgQF_",
    "nbpresent": {
     "id": "73ab9300-46cb-4deb-a673-7b6f0ea718bc"
    },
    "outputId": "f4dd1525-41f8-4394-94cc-c84dd4daeefc"
   },
   "outputs": [],
   "source": [
    "#check for missing variables\n",
    "data.isnull().any()"
   ]
  },
  {
   "cell_type": "code",
   "execution_count": null,
   "metadata": {
    "colab": {
     "base_uri": "https://localhost:8080/"
    },
    "id": "cvAoEHL5gQF_",
    "nbpresent": {
     "id": "5f0c338b-0d11-4d51-836a-e003c07412ee"
    },
    "outputId": "caa2bbab-c30c-4e28-b44d-23528d5f40a3"
   },
   "outputs": [],
   "source": [
    "data.diagnosis.unique()"
   ]
  },
  {
   "cell_type": "code",
   "execution_count": null,
   "metadata": {
    "colab": {
     "base_uri": "https://localhost:8080/",
     "height": 300
    },
    "id": "4Wq3OVpsgQGA",
    "outputId": "c0d99eef-69bc-422d-dcae-b73e3729b967"
   },
   "outputs": [],
   "source": [
    "data.describe()"
   ]
  },
  {
   "cell_type": "markdown",
   "metadata": {
    "id": "NpFZuleSgQGA"
   },
   "source": [
    "#### Counting the different values of diagnosis:\n",
    "\n",
    "1. Using df.groupby()"
   ]
  },
  {
   "cell_type": "code",
   "execution_count": null,
   "metadata": {
    "colab": {
     "base_uri": "https://localhost:8080/",
     "height": 178
    },
    "id": "3Q6pKbtHgQGB",
    "outputId": "0b4fe1b2-8878-4f63-b0b6-a98ebd6f32fa"
   },
   "outputs": [],
   "source": [
    "# Group by diagnosis and review the output.\n",
    "diag_gr = data.groupby('diagnosis', axis=0)\n",
    "pd.DataFrame(diag_gr.size(), columns=['# of observations'])"
   ]
  },
  {
   "cell_type": "markdown",
   "metadata": {
    "id": "pCqeew0wgQGB"
   },
   "source": [
    "2. Using Counter() for the collections library"
   ]
  },
  {
   "cell_type": "code",
   "execution_count": null,
   "metadata": {
    "colab": {
     "base_uri": "https://localhost:8080/",
     "height": 125
    },
    "id": "g45NEyOlgQGB",
    "outputId": "eb1f8b41-a6f4-4928-96d3-2abe70ea7eab"
   },
   "outputs": [],
   "source": [
    "from collections import Counter\n",
    "\n",
    "diag_gr = Counter(data.diagnosis)\n",
    "diag_gr = pd.DataFrame.from_dict(diag_gr, orient='index',  columns=['# of observations'])\n",
    "diag_gr"
   ]
  },
  {
   "cell_type": "markdown",
   "metadata": {
    "id": "k0dFa-19gQGC",
    "nbpresent": {
     "id": "a043ba25-f180-41cf-b29b-ec7e6bab8d57"
    }
   },
   "source": [
    "From the results above, diagnosis is a categorical variable, because it represents a fix number of possible values (i.e, Malignant, of Benign. The machine learning algorithms wants numbers, and not strings, as their inputs so we need some method of coding to convert them.\n",
    "\n"
   ]
  },
  {
   "cell_type": "code",
   "execution_count": null,
   "metadata": {
    "colab": {
     "base_uri": "https://localhost:8080/",
     "height": 469
    },
    "id": "rGufgyYfgQGC",
    "outputId": "2f95756f-7330-4fa3-efea-cec257060733"
   },
   "outputs": [],
   "source": [
    "import matplotlib.pyplot as plt\n",
    "\n",
    "plt.bar(height=diag_gr['# of observations'], x=diag_gr.index)\n",
    "plt.title(\"Barplot showing the number of benign and malignant tumor\")"
   ]
  },
  {
   "cell_type": "markdown",
   "metadata": {
    "id": "luzjHo84gQGD"
   },
   "source": [
    "##  Visualise distribution of data via scatterplots\n",
    "\n",
    "Scatterplot are commonly used to visualize two numerical variables.\n",
    "\n",
    "Using scatterplots is a good way to visualy verify if it exist a link between two variables.\n"
   ]
  },
  {
   "cell_type": "code",
   "execution_count": null,
   "metadata": {
    "colab": {
     "base_uri": "https://localhost:8080/",
     "height": 466
    },
    "id": "gXi1kqZGgQGD",
    "outputId": "fb201509-ab83-4ade-851a-2a0c520c14b4"
   },
   "outputs": [],
   "source": [
    "plt.scatter(data.values[:,1],data.values[:,9])\n",
    "plt.xlabel(data.columns[1])\n",
    "plt.ylabel(data.columns[9])"
   ]
  },
  {
   "cell_type": "markdown",
   "metadata": {
    "id": "gYXoVpLHgQGE"
   },
   "source": [
    "**Using scatterplots, it is possible to outline thee different groups**"
   ]
  },
  {
   "cell_type": "code",
   "execution_count": null,
   "metadata": {
    "colab": {
     "base_uri": "https://localhost:8080/",
     "height": 466
    },
    "id": "OkuiejvygQGE",
    "outputId": "ad691018-9406-44ed-e787-61f39af699bd"
   },
   "outputs": [],
   "source": [
    "M = data[data.diagnosis==\"M\"]\n",
    "B = data[data.diagnosis==\"B\"]\n",
    "\n",
    "plt.scatter(M.values[:,1],M.values[:,9],  label='Malignant', alpha=0.9)\n",
    "plt.scatter(B.values[:,1],B.values[:,9],  label='Benign',  alpha=0.5)\n",
    "\n",
    "plt.xlabel(M.columns[1])\n",
    "plt.ylabel(M.columns[9])\n",
    "\n",
    "plt.legend()"
   ]
  },
  {
   "cell_type": "code",
   "execution_count": null,
   "metadata": {
    "colab": {
     "base_uri": "https://localhost:8080/",
     "height": 466
    },
    "id": "r2AsXek0gQGE",
    "outputId": "aeb568a6-5c38-40e7-af6c-fac67f982546"
   },
   "outputs": [],
   "source": [
    "plt.scatter(M.concavity_mean.values ,M.area_mean.values,  label='Malignant',  alpha=0.9)\n",
    "plt.scatter(B.concavity_mean.values ,B.area_mean.values,  label='Benign' ,  alpha=0.5)\n",
    "\n",
    "plt.xlabel(\"concavity\")\n",
    "plt.ylabel(\"area\")\n",
    "\n",
    "plt.legend()"
   ]
  },
  {
   "cell_type": "markdown",
   "metadata": {
    "id": "hF2waPMfgQGF"
   },
   "source": [
    "##  Visualise distribution of data via histograms\n",
    "Histograms are commonly used to visualize numerical variables. A histogram is similar to a bar graph after the values of the variable are grouped (binned) into a finite number of intervals (bins).\n",
    "\n",
    "Histograms group data into bins and provide you a count of the number of observations in each bin. From the shape of the bins you can quickly get a feeling for whether an attribute is Gaussian, skewed or even has an exponential distribution. It can also help you see possible outliers."
   ]
  },
  {
   "cell_type": "code",
   "execution_count": null,
   "metadata": {
    "colab": {
     "base_uri": "https://localhost:8080/",
     "height": 648
    },
    "id": "p4_L5aMOgQGF",
    "outputId": "a946270d-e525-4953-cb8b-8a14fddd948f"
   },
   "outputs": [],
   "source": [
    "data_mean=data.iloc[:,1:]\n",
    "hist_mean=data_mean.hist( bins=12, figsize=(15, 10),grid=True, color = 'salmon', layout=(4,4) )"
   ]
  },
  {
   "cell_type": "code",
   "execution_count": null,
   "metadata": {
    "colab": {
     "base_uri": "https://localhost:8080/"
    },
    "id": "b_cbMYPXgQGF",
    "outputId": "610ebfa0-433a-441d-ee3d-5153f5123fa9"
   },
   "outputs": [],
   "source": [
    "data.columns"
   ]
  },
  {
   "cell_type": "markdown",
   "metadata": {
    "id": "J9p3Lt_IgQGG"
   },
   "source": [
    "### __Observation__\n",
    "\n",
    ">We can see that perhaps the variable  **concavity_mean**, may have an exponential distribution ( ). We can also see that perhaps the **symmetry_mean** and **fractal_dimension**_mean attributes may have a Gaussian or nearly Gaussian distribution. This is interesting because many machine learning techniques assume a Gaussian univariate distribution on the input variables.\n"
   ]
  },
  {
   "cell_type": "markdown",
   "metadata": {
    "id": "tmwXXtw6gQGG"
   },
   "source": [
    "### Do the same for the other variables:"
   ]
  },
  {
   "cell_type": "code",
   "execution_count": null,
   "metadata": {
    "id": "UrhMXZZpgQGG"
   },
   "outputs": [],
   "source": [
    "# For data.iloc[:,5:9]"
   ]
  },
  {
   "cell_type": "code",
   "execution_count": null,
   "metadata": {
    "id": "5FOPk18VgQGH"
   },
   "outputs": [],
   "source": [
    "# For data.iloc[:,9:]"
   ]
  },
  {
   "cell_type": "markdown",
   "metadata": {
    "id": "0aMVhle2gQGH"
   },
   "source": [
    "**An alternative for the histogram, is the density plot** :"
   ]
  },
  {
   "cell_type": "code",
   "execution_count": null,
   "metadata": {
    "colab": {
     "base_uri": "https://localhost:8080/",
     "height": 678
    },
    "id": "fmqvx7GCgQGH",
    "outputId": "4b973755-96de-4c48-d517-999e3f4be75e"
   },
   "outputs": [],
   "source": [
    "plt = data.iloc[:,1:].plot(kind= 'density', subplots=True, layout=(5,3), sharex=False,\n",
    "                     sharey=False,fontsize=12, figsize=(15,10))\n"
   ]
  },
  {
   "cell_type": "markdown",
   "metadata": {
    "id": "qZOibSxsgQGI"
   },
   "source": [
    "## Comparison between groups:\n",
    "Is the mean symmetry across multiple measures significantly different between malignant and benign tumors?\n",
    "\n",
    "#### H0: There is no significative differences of symmetry_mean between the two types of tumors with an error risk of $\\alpha$ = 0.05\n",
    "> $\\mu_B = \\mu_M $\n",
    "\n",
    "#### H1: There is a significative differences of symmetry_mean between the two types of tumors with an error risk of $\\alpha$ = 0.05\n",
    "> $\\mu_B ≠ \\mu_M $"
   ]
  },
  {
   "cell_type": "markdown",
   "metadata": {
    "id": "itPt9dCWgQGI"
   },
   "source": [
    "### What test should be used ? under what condition ?"
   ]
  },
  {
   "cell_type": "markdown",
   "metadata": {
    "id": "G1FM6Ud_gQGJ"
   },
   "source": [
    "We want to compare the means of two groups. We can use a Student's t-test if the symmetry_mean in the overall population follows a normal distribution, and if the two groups have similar variances."
   ]
  },
  {
   "cell_type": "code",
   "execution_count": null,
   "metadata": {
    "colab": {
     "base_uri": "https://localhost:8080/",
     "height": 447
    },
    "id": "_7PbYdBegQGJ",
    "outputId": "4f78ecb2-0a98-4b07-af07-f5ced72e6eaf"
   },
   "outputs": [],
   "source": [
    "data.symmetry_mean.hist()"
   ]
  },
  {
   "cell_type": "code",
   "execution_count": null,
   "metadata": {
    "colab": {
     "base_uri": "https://localhost:8080/"
    },
    "id": "nJgB1dPfgQGJ",
    "outputId": "7d36c142-e7dc-48f5-f41f-592bd3b73a4f"
   },
   "outputs": [],
   "source": [
    "B_symmetry = B.symmetry_mean.values\n",
    "M_symmetry = M.symmetry_mean.values\n",
    "\n",
    "\n",
    "print(\"Variance of mean symmetry for Benign tumors: {:.6f}\".format( B_symmetry.var()) )\n",
    "print(\"Variance of mean symmetry for Malignant tumors: {:.6f}\".format( M_symmetry.var()) )\n"
   ]
  },
  {
   "cell_type": "markdown",
   "metadata": {
    "id": "_XSG5B-cgQGJ"
   },
   "source": [
    "**The variable seems to respect both condition to use a Student t test:**\n",
    "- An almost gaussian distribution\n",
    "- Similar variances between groups"
   ]
  },
  {
   "cell_type": "code",
   "execution_count": null,
   "metadata": {
    "colab": {
     "base_uri": "https://localhost:8080/"
    },
    "id": "WXSqI-KCgQGJ",
    "outputId": "648442f1-f385-41ec-d933-0a92fc84abfd"
   },
   "outputs": [],
   "source": [
    "import scipy.stats as stats\n",
    "\n",
    "t_stat, p_value = stats.ttest_ind(B_symmetry, M_symmetry, alternative='two-sided')\n",
    "\n",
    "print(\"T-statistic value: \", t_stat)\n",
    "print(\"P-Value: \", p_value)"
   ]
  },
  {
   "cell_type": "markdown",
   "metadata": {
    "id": "HULnyPi8gQGJ"
   },
   "source": [
    "$pvalue < 0.05$ ; On peut rejeter H0 au risque $\\alpha$ = 5%\n",
    "\n",
    "**There is a significative difference between the symmetry of a benign tumor and a malignant one.**"
   ]
  },
  {
   "cell_type": "markdown",
   "metadata": {
    "id": "K8bYr7BQgQGK"
   },
   "source": [
    "#### We can graphically verify - Using histograms"
   ]
  },
  {
   "cell_type": "code",
   "execution_count": null,
   "metadata": {
    "colab": {
     "base_uri": "https://localhost:8080/",
     "height": 466
    },
    "id": "Ysb0cy2ngQGL",
    "outputId": "9a72a07d-36fa-461e-e48b-2256ed43be58"
   },
   "outputs": [],
   "source": [
    "import matplotlib.pyplot as plt\n",
    "\n",
    "\n",
    "# plotting first histogram\n",
    "plot = plt.hist(x=B_symmetry, label='Malignant', alpha=.8, edgecolor='blue')\n",
    "\n",
    "# plotting second histogram\n",
    "plot = plt.hist(x=M_symmetry, label='Benign', alpha=.8, edgecolor='grey')\n",
    "\n",
    "# Define limit of the plot\n",
    "min_ylim, max_ylim = plt.ylim()\n",
    "\n",
    "print(max_ylim)\n",
    "# Adding annotation for the mean\n",
    "plt.axvline(B_symmetry.mean(), color='blue', linestyle='dashed', linewidth=1)\n",
    "plt.text(B_symmetry.mean()*.9, max_ylim*0.9, 'Mean: {:.3f}'.format(B_symmetry.mean()))\n",
    "\n",
    "plt.axvline(M_symmetry.mean(), color='red', linestyle='dashed', linewidth=1)\n",
    "plt.text(M_symmetry.mean()*1.05, max_ylim*0.9, 'Mean: {:.3f}'.format(M_symmetry.mean()))\n",
    "\n",
    "plt.legend()\n",
    "plt.xlabel(\"Symmetry\")\n",
    "\n",
    "# Showing the plot using plt.show()\n",
    "plt.show()"
   ]
  },
  {
   "cell_type": "markdown",
   "metadata": {
    "id": "OaEu5nh-gQGL"
   },
   "source": [
    "#### We can graphically verify - Using boxplot:"
   ]
  },
  {
   "cell_type": "code",
   "execution_count": null,
   "metadata": {
    "colab": {
     "base_uri": "https://localhost:8080/",
     "height": 469
    },
    "id": "bLpM7EUwgQGM",
    "outputId": "aeed78db-4d62-4199-a954-be97c4dad361"
   },
   "outputs": [],
   "source": [
    "my_dict = {'Benign': B_symmetry, 'Malignant': M_symmetry}\n",
    "\n",
    "fig, ax = plt.subplots()\n",
    "ax.boxplot(my_dict.values())\n",
    "ax.set_xticklabels(my_dict.keys())\n",
    "min_xlim, max_xlim = plt.xlim()\n",
    "\n",
    "plt.axhline(data.symmetry_mean.mean(), color='red', linestyle='dashed', linewidth=1)\n",
    "plt.text(max_xlim*.5, data.symmetry_mean.mean()*1.05, 'Population mean: \\n {:.2f}'.format(data.symmetry_mean.mean() ) )\n",
    "\n",
    "\n",
    "plt.title(\"Boxplot of symmetry_mean for the benign and malignant tumor\")"
   ]
  },
  {
   "cell_type": "markdown",
   "metadata": {
    "id": "H2yPi4kTgQGM"
   },
   "source": [
    "### __Observation__\n",
    "\n",
    ">We can see that perhaps the variable **Symmetry_mean** might be a good predictor of the tumor state: a lower value of symmetry for a tumor might lead to a malignant tumor"
   ]
  },
  {
   "cell_type": "markdown",
   "metadata": {
    "id": "gBYIuNVigQGM"
   },
   "source": [
    "## Check the correlation between variables:"
   ]
  },
  {
   "cell_type": "code",
   "execution_count": null,
   "metadata": {
    "colab": {
     "base_uri": "https://localhost:8080/",
     "height": 363
    },
    "id": "ImQKuS7agQGN",
    "outputId": "b481b56c-436d-497e-a99d-a0cc1469d5a0"
   },
   "outputs": [],
   "source": [
    "data.iloc[:,2:].corr()"
   ]
  },
  {
   "cell_type": "code",
   "execution_count": null,
   "metadata": {
    "colab": {
     "base_uri": "https://localhost:8080/",
     "height": 907
    },
    "id": "VSeDDlUHgQGN",
    "outputId": "90a26b60-6d64-4053-8d3e-cc5f0179f106"
   },
   "outputs": [],
   "source": [
    "import pandas as pd\n",
    "import numpy as np\n",
    "import seaborn as sns\n",
    "from matplotlib import pyplot as plt\n",
    "\n",
    "plt.style.use('fivethirtyeight')\n",
    "sns.set_style(\"white\")\n",
    "\n",
    "# Compute the correlation matrix\n",
    "corr = data.iloc[:,2:].corr()\n",
    "\n",
    "# Generate a mask for the upper triangle\n",
    "mask = np.zeros_like(corr)\n",
    "\n",
    "# Masking upper triangle\n",
    "mask[np.triu_indices_from(mask)] = True\n",
    "# Showing the diagonal\n",
    "mask[np.diag_indices_from(mask)] = False\n",
    "\n",
    "# Set up the matplotlib figure\n",
    "fig, ax = plt.subplots(figsize=(8, 8))\n",
    "plt.title('Breast Cancer Feature Correlation')\n",
    "\n",
    "# Generate a custom diverging colormap\n",
    "cmap = sns.diverging_palette(260, 10, as_cmap=True)\n",
    "\n",
    "# Draw the heatmap with the mask and correct aspect ratio\n",
    "sns.heatmap(corr, vmax=1.2, square='square', cmap=cmap, mask = mask,\n",
    "            ax=ax,annot=True, fmt='.2g',linewidths=2,\n",
    "            annot_kws={\"fontsize\": 8, \"fontweight\": \"bold\", \"fontfamily\": \"serif\"},)"
   ]
  },
  {
   "cell_type": "markdown",
   "metadata": {
    "id": "yHO912oFgQGN"
   },
   "source": [
    "### Observation:\n",
    "We can see strong positive relationship exists with mean values paramaters between 1-0.75;.\n",
    "* The mean area of the tissue nucleus has a strong positive correlation with mean values of radius and parameter;\n",
    "* Some parameters are moderately positive correlated (r between 0.5-0.75)are concavity and area, concavity and perimeter etc\n",
    "* Likewise, we see some strong negative correlation between fractal_dimension with radius, texture, parameter mean values.\n",
    "    "
   ]
  },
  {
   "cell_type": "markdown",
   "metadata": {
    "id": "8HHF-dsagQGO"
   },
   "source": [
    "### We can also have an overview of the relation between variables with the seaborn package:"
   ]
  },
  {
   "cell_type": "code",
   "execution_count": null,
   "metadata": {
    "colab": {
     "base_uri": "https://localhost:8080/",
     "height": 1000
    },
    "id": "jum43XzygQGO",
    "outputId": "c332e0af-9ec4-43c9-a2bc-0c4c55e56bd9"
   },
   "outputs": [],
   "source": [
    "plt.style.use('fivethirtyeight')\n",
    "sns.set_style(\"white\")\n",
    "\n",
    "columns_to_show = data.columns[2:10].tolist() + ['diagnosis','radius_mean']\n",
    "\n",
    "\n",
    "g = sns.PairGrid(data[columns_to_show] , hue = 'diagnosis' )\n",
    "\n",
    "g = g.map_diag(sns.histplot)\n",
    "g = g.map_offdiag(sns.scatterplot, s = 5)\n",
    "g.add_legend()"
   ]
  },
  {
   "cell_type": "markdown",
   "metadata": {
    "id": "HK-GBlKmgQGO"
   },
   "source": [
    "### Summary\n",
    "\n",
    "* Mean values of cell radius, perimeter, area, compactness, concavity\n",
    "    and concave points can be used in classification of the cancer. Larger\n",
    "    values of these parameters tends to show a correlation with malignant\n",
    "    tumors.\n",
    "* mean values of texture, smoothness, symmetry or fractual dimension\n",
    "    does not show a particular preference of one diagnosis over the other."
   ]
  }
 ],
 "metadata": {
  "anaconda-cloud": {},
  "colab": {
   "provenance": []
  },
  "kernelspec": {
   "display_name": "Python 3 (ipykernel)",
   "language": "python",
   "name": "python3"
  },
  "language_info": {
   "codemirror_mode": {
    "name": "ipython",
    "version": 3
   },
   "file_extension": ".py",
   "mimetype": "text/x-python",
   "name": "python",
   "nbconvert_exporter": "python",
   "pygments_lexer": "ipython3",
   "version": "3.8.10"
  },
  "nbpresent": {
   "slides": {
    "029765a0-324f-4829-89ed-d4c3d7bdfa56": {
     "id": "029765a0-324f-4829-89ed-d4c3d7bdfa56",
     "prev": "eb53caf1-dd5e-40f6-a08e-acb2c9064355",
     "regions": {
      "020ba674-4256-4ab4-93a1-7e0e7a2161ba": {
       "attrs": {
        "height": 0.8,
        "width": 0.8,
        "x": 0.1,
        "y": 0.1
       },
       "content": {
        "cell": "e6f8be49-68cc-4381-9b0f-c872712045b6",
        "part": "whole"
       },
       "id": "020ba674-4256-4ab4-93a1-7e0e7a2161ba"
      }
     }
    },
    "17063b65-52ab-4296-866f-1732fbe2b4c5": {
     "id": "17063b65-52ab-4296-866f-1732fbe2b4c5",
     "prev": "c5378b35-bbe4-43b7-9739-6d787ad32ada",
     "regions": {
      "a2944b54-cb8b-4d2d-9a89-e0fdfc9a5a03": {
       "attrs": {
        "height": 0.8,
        "width": 0.8,
        "x": 0.1,
        "y": 0.1
       },
       "content": {
        "cell": "b6af97c7-30d4-4fc6-b9d5-a213f70788c2",
        "part": "whole"
       },
       "id": "a2944b54-cb8b-4d2d-9a89-e0fdfc9a5a03"
      }
     }
    },
    "1ce04cdb-6165-4b4f-aaf7-e856a34a5139": {
     "id": "1ce04cdb-6165-4b4f-aaf7-e856a34a5139",
     "prev": "3ae68135-1f69-426a-baea-d9929a65e1c1",
     "regions": {
      "26b78508-b18f-4e94-9db0-4e860e9aeef3": {
       "attrs": {
        "height": 0.8,
        "width": 0.8,
        "x": 0.1,
        "y": 0.1
       },
       "content": {
        "cell": "73ab9300-46cb-4deb-a673-7b6f0ea718bc",
        "part": "whole"
       },
       "id": "26b78508-b18f-4e94-9db0-4e860e9aeef3"
      }
     }
    },
    "364cf224-3a9c-4786-a47f-522b3613c613": {
     "id": "364cf224-3a9c-4786-a47f-522b3613c613",
     "prev": "58d1aade-0c9f-4b85-8ac1-1ce8631623e8",
     "regions": {
      "6996a269-8482-407e-8720-5ae4f5c7dbd2": {
       "attrs": {
        "height": 0.8,
        "width": 0.8,
        "x": 0.1,
        "y": 0.1
       },
       "content": {
        "cell": "06fb5119-7446-4892-a2a5-4770b4f98297",
        "part": "whole"
       },
       "id": "6996a269-8482-407e-8720-5ae4f5c7dbd2"
      }
     }
    },
    "3ae68135-1f69-426a-baea-d9929a65e1c1": {
     "id": "3ae68135-1f69-426a-baea-d9929a65e1c1",
     "prev": "e7e979eb-a900-4dea-b580-ce7a8750f2ed",
     "regions": {
      "bd9adb8d-a5a5-4462-bf77-b75de0851d0a": {
       "attrs": {
        "height": 0.8,
        "width": 0.8,
        "x": 0.1,
        "y": 0.1
       },
       "content": {
        "cell": "65d636e8-6dca-4a24-988f-10dac2b05134",
        "part": "whole"
       },
       "id": "bd9adb8d-a5a5-4462-bf77-b75de0851d0a"
      }
     }
    },
    "504c799a-10a2-49b6-84c5-f8183c00d180": {
     "id": "504c799a-10a2-49b6-84c5-f8183c00d180",
     "prev": "f110b360-85b7-4b4b-b99f-6d7647b3bed6",
     "regions": {
      "cc92786c-5118-4036-84aa-87fa91d28467": {
       "attrs": {
        "height": 0.8,
        "width": 0.8,
        "x": 0.1,
        "y": 0.1
       },
       "content": {
        "cell": "3749cd67-821c-4c70-b6e1-c9fa76be4ee8",
        "part": "whole"
       },
       "id": "cc92786c-5118-4036-84aa-87fa91d28467"
      }
     }
    },
    "58d1aade-0c9f-4b85-8ac1-1ce8631623e8": {
     "id": "58d1aade-0c9f-4b85-8ac1-1ce8631623e8",
     "prev": "d46dbd63-6e42-4de8-a34a-d797e2bf75a2",
     "regions": {
      "2814a179-b51d-4b1e-b1ea-05830fdc84ff": {
       "attrs": {
        "height": 0.8,
        "width": 0.8,
        "x": 0.1,
        "y": 0.1
       },
       "content": {
        "cell": "a043ba25-f180-41cf-b29b-ec7e6bab8d57",
        "part": "whole"
       },
       "id": "2814a179-b51d-4b1e-b1ea-05830fdc84ff"
      }
     }
    },
    "8752525b-c794-48fe-8aa7-d4a85bdf53fa": {
     "id": "8752525b-c794-48fe-8aa7-d4a85bdf53fa",
     "prev": "df830ab6-e594-43d4-a9ad-f241e13b1278",
     "regions": {
      "7226298c-bfa5-44a2-bd6d-21fb50409904": {
       "attrs": {
        "height": 0.8,
        "width": 0.8,
        "x": 0.1,
        "y": 0.1
       },
       "content": {
        "cell": "678c0d45-faba-4084-9235-0923c653792a",
        "part": "whole"
       },
       "id": "7226298c-bfa5-44a2-bd6d-21fb50409904"
      }
     }
    },
    "92de18eb-29ed-44b0-83c8-95db511e0e55": {
     "id": "92de18eb-29ed-44b0-83c8-95db511e0e55",
     "prev": "8752525b-c794-48fe-8aa7-d4a85bdf53fa",
     "regions": {
      "9f8e4fc0-1a4c-4f98-964f-9027dcfb6df5": {
       "attrs": {
        "height": 0.8,
        "width": 0.8,
        "x": 0.1,
        "y": 0.1
       },
       "content": {
        "cell": "0a72bf45-3489-4633-a99f-d4fba5d072ac",
        "part": "whole"
       },
       "id": "9f8e4fc0-1a4c-4f98-964f-9027dcfb6df5"
      }
     }
    },
    "98ca86b5-1929-489d-bc0c-5095a542b89f": {
     "id": "98ca86b5-1929-489d-bc0c-5095a542b89f",
     "prev": null,
     "regions": {
      "4080ad88-0b11-4a89-a777-7a22dcc73104": {
       "attrs": {
        "height": 0.8,
        "width": 0.8,
        "x": 0.1,
        "y": 0.1
       },
       "content": {
        "cell": "9f1df27f-184a-4b8b-bac6-951c73073085",
        "part": "whole"
       },
       "id": "4080ad88-0b11-4a89-a777-7a22dcc73104"
      }
     }
    },
    "98e9ac6a-316b-4e29-b4ee-bc6a149ceffb": {
     "id": "98e9ac6a-316b-4e29-b4ee-bc6a149ceffb",
     "prev": "c8da1fba-4fc5-4f36-8fac-423cbb55f44a",
     "regions": {
      "4cd7cf6b-40c0-4886-a5cc-a8821d855a7b": {
       "attrs": {
        "height": 0.8,
        "width": 0.8,
        "x": 0.1,
        "y": 0.1
       },
       "content": {
        "cell": "818004ce-3b93-48be-9fb8-9bacb0f07f33",
        "part": "whole"
       },
       "id": "4cd7cf6b-40c0-4886-a5cc-a8821d855a7b"
      }
     }
    },
    "adcf599c-e7e7-4245-b171-d38d06a41644": {
     "id": "adcf599c-e7e7-4245-b171-d38d06a41644",
     "prev": "d93546de-291d-4547-8f16-425c2edc33ee",
     "regions": {
      "342e1946-4183-4572-994d-5cc77c8b1ab6": {
       "attrs": {
        "height": 0.8,
        "width": 0.8,
        "x": 0.1,
        "y": 0.1
       },
       "content": {
        "cell": "a7e09e9f-7609-4cb0-b81e-67442d426e0d",
        "part": "whole"
       },
       "id": "342e1946-4183-4572-994d-5cc77c8b1ab6"
      }
     }
    },
    "c5378b35-bbe4-43b7-9739-6d787ad32ada": {
     "id": "c5378b35-bbe4-43b7-9739-6d787ad32ada",
     "prev": "98e9ac6a-316b-4e29-b4ee-bc6a149ceffb",
     "regions": {
      "2b8bbb2a-fa7f-4a72-80ce-f5deb38e8b22": {
       "attrs": {
        "height": 0.8,
        "width": 0.8,
        "x": 0.1,
        "y": 0.1
       },
       "content": {
        "cell": "34efc993-87f8-4055-bde3-0231aacc0579",
        "part": "whole"
       },
       "id": "2b8bbb2a-fa7f-4a72-80ce-f5deb38e8b22"
      }
     }
    },
    "c8da1fba-4fc5-4f36-8fac-423cbb55f44a": {
     "id": "c8da1fba-4fc5-4f36-8fac-423cbb55f44a",
     "prev": "adcf599c-e7e7-4245-b171-d38d06a41644",
     "regions": {
      "5acfa550-6a81-4477-afe6-a6d1de5d5fb4": {
       "attrs": {
        "height": 0.8,
        "width": 0.8,
        "x": 0.1,
        "y": 0.1
       },
       "content": {
        "cell": "e7a5c9bd-eaa8-4f5e-9e19-18ceea5e11af",
        "part": "whole"
       },
       "id": "5acfa550-6a81-4477-afe6-a6d1de5d5fb4"
      }
     }
    },
    "d46dbd63-6e42-4de8-a34a-d797e2bf75a2": {
     "id": "d46dbd63-6e42-4de8-a34a-d797e2bf75a2",
     "prev": "1ce04cdb-6165-4b4f-aaf7-e856a34a5139",
     "regions": {
      "993139e0-e0c0-4d94-a67a-8d83eb3ab97b": {
       "attrs": {
        "height": 0.8,
        "width": 0.8,
        "x": 0.1,
        "y": 0.1
       },
       "content": {
        "cell": "5f0c338b-0d11-4d51-836a-e003c07412ee",
        "part": "whole"
       },
       "id": "993139e0-e0c0-4d94-a67a-8d83eb3ab97b"
      }
     }
    },
    "d93546de-291d-4547-8f16-425c2edc33ee": {
     "id": "d93546de-291d-4547-8f16-425c2edc33ee",
     "prev": "98ca86b5-1929-489d-bc0c-5095a542b89f",
     "regions": {
      "a9485a01-dd0d-4ca2-a9a4-4dfa70d762af": {
       "attrs": {
        "height": 0.8,
        "width": 0.8,
        "x": 0.1,
        "y": 0.1
       },
       "content": {
        "cell": "f9774957-e9a8-4e5d-a3a2-11d58c98f4f3",
        "part": "whole"
       },
       "id": "a9485a01-dd0d-4ca2-a9a4-4dfa70d762af"
      }
     }
    },
    "df830ab6-e594-43d4-a9ad-f241e13b1278": {
     "id": "df830ab6-e594-43d4-a9ad-f241e13b1278",
     "prev": "e8f59263-df5b-41b7-b47a-b72401367b8c",
     "regions": {
      "539907c0-857c-49ab-a35b-689088d4d441": {
       "attrs": {
        "height": 0.8,
        "width": 0.8,
        "x": 0.1,
        "y": 0.1
       },
       "content": {
        "cell": "dd80c7bb-5dfd-4bac-b1f9-92f09954a04d",
        "part": "whole"
       },
       "id": "539907c0-857c-49ab-a35b-689088d4d441"
      }
     }
    },
    "e7e979eb-a900-4dea-b580-ce7a8750f2ed": {
     "id": "e7e979eb-a900-4dea-b580-ce7a8750f2ed",
     "prev": "029765a0-324f-4829-89ed-d4c3d7bdfa56",
     "regions": {
      "ef9a6766-0a12-4eb5-bb55-c45a7807f03e": {
       "attrs": {
        "height": 0.8,
        "width": 0.8,
        "x": 0.1,
        "y": 0.1
       },
       "content": {
        "cell": "a9522023-ad9b-4f5b-bc07-36ff15f1746a",
        "part": "whole"
       },
       "id": "ef9a6766-0a12-4eb5-bb55-c45a7807f03e"
      }
     }
    },
    "e8f59263-df5b-41b7-b47a-b72401367b8c": {
     "id": "e8f59263-df5b-41b7-b47a-b72401367b8c",
     "prev": "17063b65-52ab-4296-866f-1732fbe2b4c5",
     "regions": {
      "7f5be598-0698-4492-b474-a68934db4693": {
       "attrs": {
        "height": 0.8,
        "width": 0.8,
        "x": 0.1,
        "y": 0.1
       },
       "content": {
        "cell": "3411a17b-52dd-4b3d-8ec4-22e6ea79a516",
        "part": "whole"
       },
       "id": "7f5be598-0698-4492-b474-a68934db4693"
      }
     }
    },
    "eb53caf1-dd5e-40f6-a08e-acb2c9064355": {
     "id": "eb53caf1-dd5e-40f6-a08e-acb2c9064355",
     "prev": "92de18eb-29ed-44b0-83c8-95db511e0e55",
     "regions": {
      "0e9f4ac0-108d-4a56-8920-34eaa676bbd6": {
       "attrs": {
        "height": 0.8,
        "width": 0.8,
        "x": 0.1,
        "y": 0.1
       },
       "content": {
        "cell": "01bd515a-1951-4ae7-8d39-a96079fc9eff",
        "part": "whole"
       },
       "id": "0e9f4ac0-108d-4a56-8920-34eaa676bbd6"
      }
     }
    },
    "f110b360-85b7-4b4b-b99f-6d7647b3bed6": {
     "id": "f110b360-85b7-4b4b-b99f-6d7647b3bed6",
     "prev": "364cf224-3a9c-4786-a47f-522b3613c613",
     "regions": {
      "95a79cf2-40d9-401a-9392-2dff5250fc23": {
       "attrs": {
        "height": 0.8,
        "width": 0.8,
        "x": 0.1,
        "y": 0.1
       },
       "content": {
        "cell": "9469d4ac-470e-4b21-a460-bdfb54fd0d4f",
        "part": "whole"
       },
       "id": "95a79cf2-40d9-401a-9392-2dff5250fc23"
      }
     }
    }
   },
   "themes": {}
  },
  "vscode": {
   "interpreter": {
    "hash": "31f2aee4e71d21fbe5cf8b01ff0e069b9275f58929596ceb00d14d90e3e16cd6"
   }
  }
 },
 "nbformat": 4,
 "nbformat_minor": 1
}
